{
  "nbformat": 4,
  "nbformat_minor": 0,
  "metadata": {
    "colab": {
      "name": "Timeseries.ipynb",
      "provenance": [],
      "authorship_tag": "ABX9TyO/PFGv0yxk+aaQ1UGffdoH",
      "include_colab_link": true
    },
    "kernelspec": {
      "name": "python3",
      "display_name": "Python 3"
    }
  },
  "cells": [
    {
      "cell_type": "markdown",
      "metadata": {
        "id": "view-in-github",
        "colab_type": "text"
      },
      "source": [
        "<a href=\"https://colab.research.google.com/github/ph0810/TimeSeries/blob/main/Timeseries.ipynb\" target=\"_parent\"><img src=\"https://colab.research.google.com/assets/colab-badge.svg\" alt=\"Open In Colab\"/></a>"
      ]
    },
    {
      "cell_type": "code",
      "metadata": {
        "id": "n7_1XQxBgfQy",
        "colab": {
          "base_uri": "https://localhost:8080/"
        },
        "outputId": "af4fc52c-b618-4a85-a49e-1cba4f289ba2"
      },
      "source": [
        "from google.colab import drive\n",
        "drive.mount('/content/drive')"
      ],
      "execution_count": null,
      "outputs": [
        {
          "output_type": "stream",
          "text": [
            "Drive already mounted at /content/drive; to attempt to forcibly remount, call drive.mount(\"/content/drive\", force_remount=True).\n"
          ],
          "name": "stdout"
        }
      ]
    },
    {
      "cell_type": "code",
      "metadata": {
        "id": "aa8ksWbEWBiv",
        "colab": {
          "base_uri": "https://localhost:8080/"
        },
        "outputId": "73841fda-ede4-44ad-ab25-08c121ac97c2"
      },
      "source": [
        "!python --version\n"
      ],
      "execution_count": null,
      "outputs": [
        {
          "output_type": "stream",
          "text": [
            "Python 3.6.9\n"
          ],
          "name": "stdout"
        }
      ]
    },
    {
      "cell_type": "code",
      "metadata": {
        "id": "b-V0LmW1gsjT",
        "colab": {
          "base_uri": "https://localhost:8080/"
        },
        "outputId": "17ce3fc2-bd7f-4ddf-bcb1-9f481466e1e1"
      },
      "source": [
        "%cd /content/drive/My Drive/Pj1/ai\n",
        "!ls"
      ],
      "execution_count": null,
      "outputs": [
        {
          "output_type": "stream",
          "text": [
            "/content/drive/My Drive/Pj1/ai\n",
            "nbeats-training-checkpoint.th  NN5.csv\tNN5.gsheet  NN5.ipynb  prophet.ipynb\n"
          ],
          "name": "stdout"
        }
      ]
    },
    {
      "cell_type": "code",
      "metadata": {
        "id": "88UY_eplgtsy",
        "colab": {
          "base_uri": "https://localhost:8080/"
        },
        "outputId": "93656a62-98c6-4923-d146-829b6271940f"
      },
      "source": [
        "import pandas as pd\n",
        "import matplotlib.pyplot as plt\n",
        "from pandas import to_datetime\n",
        "df=pd.read_csv(\"NN5.csv\")\n",
        "df=df[0:735]\n",
        "print(df)\n",
        "df['Date']= to_datetime(df['Date'])\n",
        "\n"
      ],
      "execution_count": null,
      "outputs": [
        {
          "output_type": "stream",
          "text": [
            "           Date  NN5-001  NN5-002  NN5-003  ...  NN5-108  NN5-109  NN5-110  NN5-111\n",
            "0    1996-03-18   13.407   11.550    5.641  ...    9.297   10.417   11.635    8.338\n",
            "1    1996-03-19   14.725   13.591   14.399  ...   12.429   14.923   10.587    9.876\n",
            "2    1996-03-20   20.564   15.037   24.419  ...   13.251   25.865   12.571   16.320\n",
            "3    1996-03-21   34.708   21.570   28.784  ...   24.816   37.996   17.517   22.554\n",
            "4    1996-03-22   26.630   19.444   20.621  ...   19.232   33.291   24.291   18.096\n",
            "..          ...      ...      ...      ...  ...      ...      ...      ...      ...\n",
            "730  1998-03-18   30.088   18.750      NaN  ...   14.867   33.277   16.355   19.108\n",
            "731  1998-03-19   54.138   29.677   21.684  ...   29.110   49.957   25.071   25.513\n",
            "732  1998-03-20   53.501   30.726   35.587  ...    2.778   43.311   25.255   22.028\n",
            "733  1998-03-21   39.697   16.738   18.637  ...    0.000   19.785   21.939   10.679\n",
            "734  1998-03-22   29.705   12.046   13.095  ...   11.777   20.578   18.509    7.417\n",
            "\n",
            "[735 rows x 112 columns]\n"
          ],
          "name": "stdout"
        }
      ]
    },
    {
      "cell_type": "code",
      "metadata": {
        "id": "wkt0elqYhT_V"
      },
      "source": [
        "from fbprophet import Prophet\n",
        "from matplotlib import pyplot"
      ],
      "execution_count": null,
      "outputs": []
    },
    {
      "cell_type": "code",
      "metadata": {
        "id": "dSRQluVWhW2W"
      },
      "source": [
        "model = Prophet()"
      ],
      "execution_count": null,
      "outputs": []
    },
    {
      "cell_type": "code",
      "metadata": {
        "id": "4a8IPmUohZjW",
        "colab": {
          "base_uri": "https://localhost:8080/"
        },
        "outputId": "72d01640-bd3b-43b0-89ff-b226175cf6d0"
      },
      "source": [
        "df1=df[[\"Date\",\"NN5-001\"]]\n",
        "df1.columns = ['ds', 'y']\n",
        "model.fit(df1)"
      ],
      "execution_count": null,
      "outputs": [
        {
          "output_type": "stream",
          "text": [
            "INFO:numexpr.utils:NumExpr defaulting to 2 threads.\n",
            "INFO:fbprophet:Disabling daily seasonality. Run prophet with daily_seasonality=True to override this.\n"
          ],
          "name": "stderr"
        },
        {
          "output_type": "execute_result",
          "data": {
            "text/plain": [
              "<fbprophet.forecaster.Prophet at 0x7f9c39c52ef0>"
            ]
          },
          "metadata": {
            "tags": []
          },
          "execution_count": 34
        }
      ]
    },
    {
      "cell_type": "code",
      "metadata": {
        "id": "H7qA4nDmix2_",
        "colab": {
          "base_uri": "https://localhost:8080/"
        },
        "outputId": "64731cda-a20e-49f6-aba6-94a242e212a7"
      },
      "source": [
        "import datetime\n",
        "i=23\n",
        "future=[]\n",
        "while i<=31:\n",
        " x = datetime.datetime(1998, 3, i)\n",
        " x=x.strftime(\"%Y-%m-%d\")\n",
        " future.append(x)\n",
        " i=i+1\n",
        "i=1\n",
        "while i<=21:\n",
        "  x = datetime.datetime(1998, 4, i)\n",
        "  x=x.strftime(\"%Y-%m-%d\")\n",
        "  future.append(x)\n",
        "  i=i+1\n",
        "print(future)\n",
        "\n"
      ],
      "execution_count": null,
      "outputs": [
        {
          "output_type": "stream",
          "text": [
            "['1998-03-23', '1998-03-24', '1998-03-25', '1998-03-26', '1998-03-27', '1998-03-28', '1998-03-29', '1998-03-30', '1998-03-31', '1998-04-01', '1998-04-02', '1998-04-03', '1998-04-04', '1998-04-05', '1998-04-06', '1998-04-07', '1998-04-08', '1998-04-09', '1998-04-10', '1998-04-11', '1998-04-12', '1998-04-13', '1998-04-14', '1998-04-15', '1998-04-16', '1998-04-17', '1998-04-18', '1998-04-19', '1998-04-20', '1998-04-21']\n"
          ],
          "name": "stdout"
        }
      ]
    },
    {
      "cell_type": "code",
      "metadata": {
        "id": "s4vLRYn_m2UT"
      },
      "source": [
        "from pandas import DataFrame"
      ],
      "execution_count": null,
      "outputs": []
    },
    {
      "cell_type": "code",
      "metadata": {
        "id": "haEnV2jYleBH"
      },
      "source": [
        "future = DataFrame(future)\n",
        "future.columns = ['ds']\n",
        "future['ds']= to_datetime(future['ds'])"
      ],
      "execution_count": null,
      "outputs": []
    },
    {
      "cell_type": "code",
      "metadata": {
        "id": "FW5s1sfvm71U",
        "colab": {
          "base_uri": "https://localhost:8080/",
          "height": 322
        },
        "outputId": "198c38c6-f58f-4740-ead9-bf807b8c9825"
      },
      "source": [
        "# use the model to make a forecast\n",
        "forecast = model.predict(future)\n",
        "# summarize the forecast\n",
        "print(forecast[['ds', 'yhat', 'yhat_lower', 'yhat_upper']].head())\n",
        "# plot forecast\n",
        "model.plot(forecast,figsize=(15, 5))\n",
        "pyplot.show()"
      ],
      "execution_count": null,
      "outputs": [
        {
          "output_type": "stream",
          "text": [
            "          ds       yhat  yhat_lower  yhat_upper\n",
            "0 1998-03-23  28.696393   19.812435   37.230087\n",
            "1 1998-03-24  34.875699   26.323633   43.147661\n",
            "2 1998-03-25  41.651287   33.678221   51.031324\n",
            "3 1998-03-26  54.945642   46.347042   63.545246\n",
            "4 1998-03-27  45.923843   37.644793   55.262462\n"
          ],
          "name": "stdout"
        },
        {
          "output_type": "error",
          "ename": "TypeError",
          "evalue": "ignored",
          "traceback": [
            "\u001b[0;31m---------------------------------------------------------------------------\u001b[0m",
            "\u001b[0;31mTypeError\u001b[0m                                 Traceback (most recent call last)",
            "\u001b[0;32m<ipython-input-38-a94e308d15c6>\u001b[0m in \u001b[0;36m<module>\u001b[0;34m()\u001b[0m\n\u001b[1;32m      4\u001b[0m \u001b[0mprint\u001b[0m\u001b[0;34m(\u001b[0m\u001b[0mforecast\u001b[0m\u001b[0;34m[\u001b[0m\u001b[0;34m[\u001b[0m\u001b[0;34m'ds'\u001b[0m\u001b[0;34m,\u001b[0m \u001b[0;34m'yhat'\u001b[0m\u001b[0;34m,\u001b[0m \u001b[0;34m'yhat_lower'\u001b[0m\u001b[0;34m,\u001b[0m \u001b[0;34m'yhat_upper'\u001b[0m\u001b[0;34m]\u001b[0m\u001b[0;34m]\u001b[0m\u001b[0;34m.\u001b[0m\u001b[0mhead\u001b[0m\u001b[0;34m(\u001b[0m\u001b[0;34m)\u001b[0m\u001b[0;34m)\u001b[0m\u001b[0;34m\u001b[0m\u001b[0;34m\u001b[0m\u001b[0m\n\u001b[1;32m      5\u001b[0m \u001b[0;31m# plot forecast\u001b[0m\u001b[0;34m\u001b[0m\u001b[0;34m\u001b[0m\u001b[0;34m\u001b[0m\u001b[0m\n\u001b[0;32m----> 6\u001b[0;31m \u001b[0mmodel\u001b[0m\u001b[0;34m.\u001b[0m\u001b[0mplot\u001b[0m\u001b[0;34m(\u001b[0m\u001b[0mforecast\u001b[0m\u001b[0;34m,\u001b[0m\u001b[0mfigsize\u001b[0m\u001b[0;34m=\u001b[0m\u001b[0;34m(\u001b[0m\u001b[0;36m15\u001b[0m\u001b[0;34m,\u001b[0m \u001b[0;36m5\u001b[0m\u001b[0;34m)\u001b[0m\u001b[0;34m)\u001b[0m\u001b[0;34m\u001b[0m\u001b[0;34m\u001b[0m\u001b[0m\n\u001b[0m\u001b[1;32m      7\u001b[0m \u001b[0mpyplot\u001b[0m\u001b[0;34m.\u001b[0m\u001b[0mshow\u001b[0m\u001b[0;34m(\u001b[0m\u001b[0;34m)\u001b[0m\u001b[0;34m\u001b[0m\u001b[0;34m\u001b[0m\u001b[0m\n",
            "\u001b[0;31mTypeError\u001b[0m: plot() got an unexpected keyword argument 'figsize'"
          ]
        }
      ]
    },
    {
      "cell_type": "code",
      "metadata": {
        "id": "UEJKWo5Xobnj",
        "colab": {
          "base_uri": "https://localhost:8080/"
        },
        "outputId": "4dc65877-4033-439f-db83-59c18759c7b8"
      },
      "source": [
        "print(forecast[['ds', 'yhat']])"
      ],
      "execution_count": null,
      "outputs": [
        {
          "output_type": "stream",
          "text": [
            "           ds       yhat\n",
            "0  1998-03-23  28.696393\n",
            "1  1998-03-24  34.875699\n",
            "2  1998-03-25  41.651287\n",
            "3  1998-03-26  54.945642\n",
            "4  1998-03-27  45.923843\n",
            "5  1998-03-28  34.901322\n",
            "6  1998-03-29  34.091551\n",
            "7  1998-03-30  30.986887\n",
            "8  1998-03-31  36.942337\n",
            "9  1998-04-01  43.457184\n",
            "10 1998-04-02  56.459113\n",
            "11 1998-04-03  47.119268\n",
            "12 1998-04-04  35.759861\n",
            "13 1998-04-05  34.601689\n",
            "14 1998-04-06  31.144797\n",
            "15 1998-04-07  36.752039\n",
            "16 1998-04-08  42.930504\n",
            "17 1998-04-09  55.615439\n",
            "18 1998-04-10  45.985103\n",
            "19 1998-04-11  34.368195\n",
            "20 1998-04-12  32.991196\n",
            "21 1998-04-13  29.358881\n",
            "22 1998-04-14  34.837762\n",
            "23 1998-04-15  40.937409\n",
            "24 1998-04-16  53.594318\n",
            "25 1998-04-17  43.986731\n",
            "26 1998-04-18  32.442065\n",
            "27 1998-04-19  31.184299\n",
            "28 1998-04-20  27.714548\n",
            "29 1998-04-21  33.394616\n"
          ],
          "name": "stdout"
        }
      ]
    },
    {
      "cell_type": "code",
      "metadata": {
        "id": "OPCPugy-r1bp",
        "colab": {
          "base_uri": "https://localhost:8080/"
        },
        "outputId": "d3a5dc31-6187-489b-ba76-3f5af9028d79"
      },
      "source": [
        "future1=df1['ds'][-50:].values\n",
        "future1= DataFrame(future1)\n",
        "future1.columns = ['ds']\n",
        "future1['ds']= to_datetime(future1['ds'])\n",
        "print(future1)\n",
        "forecast = model.predict(future1)"
      ],
      "execution_count": null,
      "outputs": [
        {
          "output_type": "stream",
          "text": [
            "           ds\n",
            "0  1998-02-01\n",
            "1  1998-02-02\n",
            "2  1998-02-03\n",
            "3  1998-02-04\n",
            "4  1998-02-05\n",
            "5  1998-02-06\n",
            "6  1998-02-07\n",
            "7  1998-02-08\n",
            "8  1998-02-09\n",
            "9  1998-02-10\n",
            "10 1998-02-11\n",
            "11 1998-02-12\n",
            "12 1998-02-13\n",
            "13 1998-02-14\n",
            "14 1998-02-15\n",
            "15 1998-02-16\n",
            "16 1998-02-17\n",
            "17 1998-02-18\n",
            "18 1998-02-19\n",
            "19 1998-02-20\n",
            "20 1998-02-21\n",
            "21 1998-02-22\n",
            "22 1998-02-23\n",
            "23 1998-02-24\n",
            "24 1998-02-25\n",
            "25 1998-02-26\n",
            "26 1998-02-27\n",
            "27 1998-02-28\n",
            "28 1998-03-01\n",
            "29 1998-03-02\n",
            "30 1998-03-03\n",
            "31 1998-03-04\n",
            "32 1998-03-05\n",
            "33 1998-03-06\n",
            "34 1998-03-07\n",
            "35 1998-03-08\n",
            "36 1998-03-09\n",
            "37 1998-03-10\n",
            "38 1998-03-11\n",
            "39 1998-03-12\n",
            "40 1998-03-13\n",
            "41 1998-03-14\n",
            "42 1998-03-15\n",
            "43 1998-03-16\n",
            "44 1998-03-17\n",
            "45 1998-03-18\n",
            "46 1998-03-19\n",
            "47 1998-03-20\n",
            "48 1998-03-21\n",
            "49 1998-03-22\n"
          ],
          "name": "stdout"
        }
      ]
    },
    {
      "cell_type": "code",
      "metadata": {
        "id": "zGI7vjXSp_El",
        "colab": {
          "base_uri": "https://localhost:8080/",
          "height": 369
        },
        "outputId": "368a6a7b-55ad-41f4-bad1-0d554a517b33"
      },
      "source": [
        "from sklearn.metrics import mean_absolute_error\n",
        "y_true = df1['y'][-50:].values\n",
        "print(y_true)\n",
        "y_pred = forecast['yhat'].values\n",
        "mae = mean_absolute_error(y_true, y_pred)\n",
        "print('MAE: %.3f' % mae)\n",
        "# plot expected vs actual\n",
        "pyplot.plot(y_true, label='Actual')\n",
        "pyplot.plot(y_pred, label='Predicted')\n",
        "pyplot.legend()\n",
        "pyplot.show()"
      ],
      "execution_count": null,
      "outputs": [
        {
          "output_type": "stream",
          "text": [
            "[24.221 21.4   28.741 36.196 60.19  42.205 24.306 29.833 20.181 28.784\n",
            " 41.128 58.659 49.83  32.214 26.304 23.895 34.07  41.213 57.752 42.219\n",
            " 30.938 25.865 21.23  29.734 42.871 62.472 45.493 33.489 18.608 24.334\n",
            " 26.927 40.717 54.535 46.57  10.601  4.124 12.146 30.669 38.634 60.162\n",
            " 47.166 37.16  24.986 19.7   32.341 30.088 54.138 53.501 39.697 29.705]\n",
            "MAE: 5.294\n"
          ],
          "name": "stdout"
        },
        {
          "output_type": "display_data",
          "data": {
            "image/png": "[encoded data removed]",
            "text/plain": [
              "<Figure size 432x288 with 1 Axes>"
            ]
          },
          "metadata": {
            "tags": [],
            "needs_background": "light"
          }
        }
      ]
    },
    {
      "cell_type": "code",
      "metadata": {
        "id": "BLlZdAPujwKZ",
        "colab": {
          "base_uri": "https://localhost:8080/",
          "height": 1000
        },
        "outputId": "d0c41dcd-5cc5-4aad-db54-c9cf87c26b68"
      },
      "source": [
        "pip install --target=/usr/local/python3/lib/python3.6/site-packages --upgrade atspy\n"
      ],
      "execution_count": null,
      "outputs": [
        {
          "output_type": "stream",
          "text": [
            "Processing /root/.cache/pip/wheels/ac/2e/4b/114d30f1e5e8763c05a3a6964efc758b07ab2dc26530bec443/atspy-0.2.8-cp36-none-any.whl\n",
            "Collecting tsfresh==0.14.1\n",
            "  Using cached tsfresh-0.14.1-py2.py3-none-any.whl (77 kB)\n",
            "Collecting tensorflow==1.15.0\n",
            "  Using cached tensorflow-1.15.0-cp36-cp36m-manylinux2010_x86_64.whl (412.3 MB)\n",
            "Processing /root/.cache/pip/wheels/d0/f6/69/0ef3ee395aac2e5d15d89efd29a9a216f3c27767b43b72c006/tflearn-0.3.2-cp36-none-any.whl\n",
            "Collecting pip-tools==4.2.0\n",
            "  Using cached pip_tools-4.2.0-py2.py3-none-any.whl (40 kB)\n",
            "Collecting matplotlib==3.1.2\n",
            "  Using cached matplotlib-3.1.2-cp36-cp36m-manylinux1_x86_64.whl (13.1 MB)\n",
            "Processing /root/.cache/pip/wheels/34/38/9a/39028cefc7b8324d53649916acff87936d908b60e58acbda4c/psutil-5.4.8-cp36-cp36m-linux_x86_64.whl\n",
            "Collecting torch==1.4.0\n",
            "  Using cached torch-1.4.0-cp36-cp36m-manylinux1_x86_64.whl (753.4 MB)\n",
            "Collecting typing-extensions==3.6.6\n",
            "  Using cached typing_extensions-3.6.6-py3-none-any.whl (16 kB)\n",
            "Collecting cachetools==4.0.0\n",
            "  Using cached cachetools-4.0.0-py3-none-any.whl (10 kB)\n",
            "Collecting scipy==1.4.1\n",
            "  Using cached scipy-1.4.1-cp36-cp36m-manylinux1_x86_64.whl (26.1 MB)\n",
            "Collecting mxnet-cu100==1.4.1\n",
            "  Using cached mxnet_cu100-1.4.1-py2.py3-none-manylinux1_x86_64.whl (488.3 MB)\n",
            "Collecting pandas==0.25.3\n",
            "  Using cached pandas-0.25.3-cp36-cp36m-manylinux1_x86_64.whl (10.4 MB)\n",
            "Collecting seasonal==0.3.1\n",
            "  Using cached seasonal-0.3.1-py2.py3-none-any.whl (18 kB)\n",
            "Collecting tblib==1.6.0\n",
            "  Using cached tblib-1.6.0-py2.py3-none-any.whl (12 kB)\n",
            "Processing /root/.cache/pip/wheels/16/61/45/2dce71b1055b65f28a8b75702664adee6c645e3e294178a202/fbprophet-0.5-cp36-none-any.whl\n",
            "Collecting scikit-learn==0.22.1\n",
            "  Using cached scikit_learn-0.22.1-cp36-cp36m-manylinux1_x86_64.whl (7.0 MB)\n",
            "Collecting tqdm==4.28.1\n",
            "  Using cached tqdm-4.28.1-py2.py3-none-any.whl (45 kB)\n",
            "Collecting tbats==1.0.9\n",
            "  Using cached tbats-1.0.9-py3-none-any.whl (43 kB)\n",
            "Processing /root/.cache/pip/wheels/23/9d/42/5ec745cbbb17517000a53cecc49d6a865450d1f5cb16dc8a9c/sklearn-0.0-py2.py3-none-any.whl\n",
            "Collecting pmdarima==1.5.2\n",
            "  Using cached pmdarima-1.5.2-cp36-cp36m-manylinux1_x86_64.whl (1.4 MB)\n",
            "Processing /root/.cache/pip/wheels/5d/79/e4/4e55effe206295359b37e0f9db3e68a1197ba396682807dadb/easydict-1.9-py3-none-any.whl\n",
            "Collecting Keras==2.2.5\n",
            "  Using cached Keras-2.2.5-py2.py3-none-any.whl (336 kB)\n",
            "Collecting nbeats-pytorch==1.3.0\n",
            "  Using cached nbeats_pytorch-1.3.0-py3-none-any.whl (4.8 kB)\n",
            "Collecting dataclasses\n",
            "  Using cached dataclasses-0.8-py3-none-any.whl (19 kB)\n",
            "Collecting pydantic==1.4\n",
            "  Using cached pydantic-1.4-cp36-cp36m-manylinux2010_x86_64.whl (7.5 MB)\n",
            "Collecting seaborn==0.9.1\n",
            "  Using cached seaborn-0.9.1-py2.py3-none-any.whl (216 kB)\n",
            "Collecting psycopg2==2.7.6.1\n",
            "  Using cached psycopg2-2.7.6.1-cp36-cp36m-manylinux1_x86_64.whl (2.7 MB)\n",
            "Collecting DateTime==4.3\n",
            "  Using cached DateTime-4.3-py2.py3-none-any.whl (60 kB)\n",
            "Collecting xlrd==1.1.0\n",
            "  Using cached xlrd-1.1.0-py2.py3-none-any.whl (108 kB)\n",
            "Collecting gunicorn==20.0.4\n",
            "  Using cached gunicorn-20.0.4-py2.py3-none-any.whl (77 kB)\n",
            "Collecting tweepy==3.6.0\n",
            "  Using cached tweepy-3.6.0-py2.py3-none-any.whl (29 kB)\n",
            "Collecting Cython==0.29.14\n",
            "  Using cached Cython-0.29.14-cp36-cp36m-manylinux1_x86_64.whl (2.1 MB)\n",
            "Collecting statsmodels==0.10.2\n",
            "  Using cached statsmodels-0.10.2-cp36-cp36m-manylinux1_x86_64.whl (8.1 MB)\n",
            "Collecting typing==3.6.6\n",
            "  Using cached typing-3.6.6-py3-none-any.whl (25 kB)\n",
            "Collecting lightgbm==2.2.3\n",
            "  Using cached lightgbm-2.2.3-py2.py3-none-manylinux1_x86_64.whl (1.2 MB)\n",
            "Collecting gluonts==0.4.2\n",
            "  Using cached gluonts-0.4.2-py3-none-any.whl (323 kB)\n",
            "Collecting numpy==1.17.4\n",
            "  Using cached numpy-1.17.4-cp36-cp36m-manylinux1_x86_64.whl (20.0 MB)\n",
            "Collecting numexpr==2.7.1\n",
            "  Using cached numexpr-2.7.1-cp36-cp36m-manylinux1_x86_64.whl (162 kB)\n",
            "Collecting numba==0.47.0\n",
            "  Using cached numba-0.47.0-cp36-cp36m-manylinux1_x86_64.whl (3.7 MB)\n",
            "Processing /root/.cache/pip/wheels/c7/eb/55/024a0ee79050f2b1ec44247b907978587ede79d00697d55c75/sympy-1.1.1-py3-none-any.whl\n",
            "Collecting decorator==4.4.1\n",
            "  Using cached decorator-4.4.1-py2.py3-none-any.whl (9.2 kB)\n",
            "Collecting patsy>=0.4.1\n",
            "  Using cached patsy-0.5.1-py2.py3-none-any.whl (231 kB)\n",
            "Collecting requests>=2.9.1\n",
            "  Using cached requests-2.25.0-py2.py3-none-any.whl (61 kB)\n",
            "Collecting dask[dataframe]>=0.15.2\n",
            "  Using cached dask-2.30.0-py3-none-any.whl (848 kB)\n",
            "Collecting distributed>=1.18.3\n",
            "  Using cached distributed-2.30.1-py3-none-any.whl (656 kB)\n",
            "Collecting tensorboard<1.16.0,>=1.15.0\n",
            "  Using cached tensorboard-1.15.0-py3-none-any.whl (3.8 MB)\n",
            "Processing /root/.cache/pip/wheels/5c/2e/7e/a1d4d4fcebe6c381f378ce7743a3ced3699feb89bcfbdadadd/gast-0.2.2-cp36-none-any.whl\n",
            "Collecting tensorflow-estimator==1.15.1\n",
            "  Using cached tensorflow_estimator-1.15.1-py2.py3-none-any.whl (503 kB)\n",
            "Collecting keras-preprocessing>=1.0.5\n",
            "  Using cached Keras_Preprocessing-1.1.2-py2.py3-none-any.whl (42 kB)\n",
            "Processing /root/.cache/pip/wheels/32/42/7f/23cae9ff6ef66798d00dc5d659088e57dbba01566f6c60db63/wrapt-1.12.1-cp36-cp36m-linux_x86_64.whl\n",
            "Collecting protobuf>=3.6.1\n",
            "  Using cached protobuf-3.14.0-cp36-cp36m-manylinux1_x86_64.whl (1.0 MB)\n",
            "Processing /root/.cache/pip/wheels/93/2a/eb/e58dbcbc963549ee4f065ff80a59f274cc7210b6eab962acdc/termcolor-1.1.0-py3-none-any.whl\n",
            "Collecting six>=1.10.0\n",
            "  Using cached six-1.15.0-py2.py3-none-any.whl (10 kB)\n",
            "Collecting opt-einsum>=2.3.2\n",
            "  Using cached opt_einsum-3.3.0-py3-none-any.whl (65 kB)\n",
            "Collecting absl-py>=0.7.0\n",
            "  Using cached absl_py-0.11.0-py3-none-any.whl (127 kB)\n",
            "Collecting keras-applications>=1.0.8\n",
            "  Using cached Keras_Applications-1.0.8-py3-none-any.whl (50 kB)\n",
            "Collecting wheel>=0.26\n",
            "  Using cached wheel-0.35.1-py2.py3-none-any.whl (33 kB)\n",
            "Collecting astor>=0.6.0\n",
            "  Using cached astor-0.8.1-py2.py3-none-any.whl (27 kB)\n",
            "Collecting grpcio>=1.8.6\n",
            "  Using cached grpcio-1.33.2-cp36-cp36m-manylinux2014_x86_64.whl (3.8 MB)\n",
            "Collecting google-pasta>=0.1.6\n",
            "  Using cached google_pasta-0.2.0-py3-none-any.whl (57 kB)\n",
            "Collecting Pillow\n",
            "  Using cached Pillow-8.0.1-cp36-cp36m-manylinux1_x86_64.whl (2.2 MB)\n",
            "Collecting click>=6\n",
            "  Using cached click-7.1.2-py2.py3-none-any.whl (82 kB)\n",
            "Collecting kiwisolver>=1.0.1\n",
            "  Using cached kiwisolver-1.3.1-cp36-cp36m-manylinux1_x86_64.whl (1.1 MB)\n",
            "Collecting python-dateutil>=2.1\n",
            "  Using cached python_dateutil-2.8.1-py2.py3-none-any.whl (227 kB)\n",
            "Collecting cycler>=0.10\n",
            "  Using cached cycler-0.10.0-py2.py3-none-any.whl (6.5 kB)\n",
            "Collecting pyparsing!=2.0.4,!=2.1.2,!=2.1.6,>=2.0.1\n",
            "  Using cached pyparsing-2.4.7-py2.py3-none-any.whl (67 kB)\n",
            "Collecting graphviz<0.9.0,>=0.8.1\n",
            "  Using cached graphviz-0.8.4-py2.py3-none-any.whl (16 kB)\n",
            "Collecting pytz>=2017.2\n",
            "  Using cached pytz-2020.4-py2.py3-none-any.whl (509 kB)\n",
            "Collecting lunardate>=0.1.5\n",
            "  Using cached lunardate-0.2.0-py3-none-any.whl (5.6 kB)\n",
            "Collecting convertdate>=2.1.2\n",
            "  Using cached convertdate-2.3.0-py3-none-any.whl (45 kB)\n",
            "Processing /root/.cache/pip/wheels/a6/7e/14/7b8680d78a931b7cb01c7c543226406a1eb828674707a9d211/holidays-0.10.3-py3-none-any.whl\n",
            "Collecting setuptools-git>=1.2\n",
            "  Using cached setuptools_git-1.2-py2.py3-none-any.whl (10 kB)\n",
            "Collecting pystan>=2.14\n",
            "  Using cached pystan-2.19.1.1-cp36-cp36m-manylinux1_x86_64.whl (67.3 MB)\n",
            "Collecting joblib>=0.11\n",
            "  Using cached joblib-0.17.0-py3-none-any.whl (301 kB)\n",
            "Processing /root/.cache/pip/wheels/e5/9d/ad/2ee53cf262cba1ffd8afe1487eef788ea3f260b7e6232a80fc/PyYAML-5.3.1-cp36-cp36m-linux_x86_64.whl\n",
            "Collecting h5py\n",
            "  Using cached h5py-3.1.0-cp36-cp36m-manylinux1_x86_64.whl (4.0 MB)\n",
            "Collecting torchvision\n",
            "  Using cached torchvision-0.8.1-cp36-cp36m-manylinux1_x86_64.whl (12.8 MB)\n",
            "Collecting zope.interface\n",
            "  Using cached zope.interface-5.2.0-cp36-cp36m-manylinux2010_x86_64.whl (236 kB)\n",
            "Collecting setuptools>=3.0\n",
            "  Using cached setuptools-50.3.2-py3-none-any.whl (785 kB)\n",
            "Collecting PySocks>=1.5.7\n",
            "  Using cached PySocks-1.7.1-py3-none-any.whl (16 kB)\n",
            "Collecting requests-oauthlib>=0.7.0\n",
            "  Using cached requests_oauthlib-1.3.0-py2.py3-none-any.whl (23 kB)\n",
            "Collecting boto3~=1.0\n",
            "  Using cached boto3-1.16.18-py2.py3-none-any.whl (129 kB)\n",
            "Processing /root/.cache/pip/wheels/28/77/e4/0311145b9c2e2f01470e744855131f9e34d6919687550f87d1/ujson-1.35-cp36-cp36m-linux_x86_64.whl\n",
            "Collecting llvmlite>=0.31.0dev0\n",
            "  Using cached llvmlite-0.35.0rc2-cp36-cp36m-manylinux2010_x86_64.whl (25.3 MB)\n",
            "Processing /root/.cache/pip/wheels/e8/38/69/aa17553ad31f09ff5fa44c8a1a6c5b47e7c9261e9c7c16b9fb/mpmath-1.1.0-py3-none-any.whl\n",
            "Collecting chardet<4,>=3.0.2\n",
            "  Using cached chardet-3.0.4-py2.py3-none-any.whl (133 kB)\n",
            "Collecting idna<3,>=2.5\n",
            "  Using cached idna-2.10-py2.py3-none-any.whl (58 kB)\n",
            "Collecting urllib3<1.27,>=1.21.1\n",
            "  Using cached urllib3-1.26.2-py2.py3-none-any.whl (136 kB)\n",
            "Collecting certifi>=2017.4.17\n",
            "  Using cached certifi-2020.11.8-py2.py3-none-any.whl (155 kB)\n",
            "Collecting toolz>=0.8.2; extra == \"dataframe\"\n",
            "  Using cached toolz-0.11.1-py3-none-any.whl (55 kB)\n",
            "Collecting fsspec>=0.6.0; extra == \"dataframe\"\n",
            "  Using cached fsspec-0.8.4-py3-none-any.whl (91 kB)\n",
            "Collecting partd>=0.3.10; extra == \"dataframe\"\n",
            "  Using cached partd-1.1.0-py3-none-any.whl (19 kB)\n",
            "Collecting msgpack>=0.6.0\n",
            "  Using cached msgpack-1.0.0-cp36-cp36m-manylinux1_x86_64.whl (274 kB)\n",
            "Processing /root/.cache/pip/wheels/41/11/53/911724983aa48deb94792432e14e518447212dd6c5477d49d3/contextvars-2.4-py3-none-any.whl\n",
            "Collecting sortedcontainers!=2.0.0,!=2.0.1\n",
            "  Using cached sortedcontainers-2.3.0-py2.py3-none-any.whl (29 kB)\n",
            "Collecting tornado>=5; python_version < \"3.8\"\n",
            "  Using cached tornado-6.1-cp36-cp36m-manylinux2010_x86_64.whl (427 kB)\n",
            "Collecting zict>=0.1.3\n",
            "  Using cached zict-2.0.0-py3-none-any.whl (10 kB)\n",
            "Collecting cloudpickle>=1.5.0\n",
            "  Using cached cloudpickle-1.6.0-py3-none-any.whl (23 kB)\n",
            "Collecting werkzeug>=0.11.15\n",
            "  Using cached Werkzeug-1.0.1-py2.py3-none-any.whl (298 kB)\n",
            "Collecting markdown>=2.6.8\n",
            "  Using cached Markdown-3.3.3-py3-none-any.whl (96 kB)\n",
            "Processing /root/.cache/pip/wheels/e9/c3/07/d32faf16682e2cd245be46e4c54053c8c82fa9762f4a4bcc63/PyMeeus-0.3.7-py3-none-any.whl\n",
            "Collecting korean-lunar-calendar\n",
            "  Using cached korean_lunar_calendar-0.2.1-py3-none-any.whl (8.0 kB)\n",
            "Collecting cached-property; python_version < \"3.8\"\n",
            "  Using cached cached_property-1.5.2-py2.py3-none-any.whl (7.6 kB)\n",
            "Collecting oauthlib>=3.0.0\n",
            "  Using cached oauthlib-3.1.0-py2.py3-none-any.whl (147 kB)\n",
            "Collecting s3transfer<0.4.0,>=0.3.0\n",
            "  Using cached s3transfer-0.3.3-py2.py3-none-any.whl (69 kB)\n",
            "Collecting jmespath<1.0.0,>=0.7.1\n",
            "  Using cached jmespath-0.10.0-py2.py3-none-any.whl (24 kB)\n",
            "Collecting botocore<1.20.0,>=1.19.18\n",
            "  Using cached botocore-1.19.18-py2.py3-none-any.whl (6.8 MB)\n",
            "Processing /root/.cache/pip/wheels/26/1e/e8/4fa236ec931b1a0cdd61578e20d4934d7bf188858723b84698/locket-0.2.0-cp36-none-any.whl\n",
            "Collecting immutables>=0.9\n",
            "  Using cached immutables-0.14-cp36-cp36m-manylinux1_x86_64.whl (98 kB)\n",
            "Collecting heapdict\n",
            "  Using cached HeapDict-1.0.1-py3-none-any.whl (3.9 kB)\n",
            "Collecting importlib-metadata; python_version < \"3.8\"\n",
            "  Using cached importlib_metadata-2.0.0-py2.py3-none-any.whl (31 kB)\n",
            "Collecting zipp>=0.5\n",
            "  Using cached zipp-3.4.0-py3-none-any.whl (5.2 kB)\n",
            "Installing collected packages: tqdm, six, python-dateutil, pytz, numpy, pandas, scipy, patsy, statsmodels, joblib, scikit-learn, chardet, idna, urllib3, certifi, requests, pyyaml, toolz, fsspec, locket, partd, dask, msgpack, immutables, contextvars, click, setuptools, sortedcontainers, tornado, psutil, tblib, heapdict, zict, cloudpickle, distributed, tsfresh, werkzeug, wheel, zipp, importlib-metadata, markdown, protobuf, absl-py, grpcio, tensorboard, gast, tensorflow-estimator, keras-preprocessing, wrapt, termcolor, opt-einsum, cached-property, h5py, keras-applications, astor, google-pasta, tensorflow, Pillow, tflearn, pip-tools, kiwisolver, cycler, pyparsing, matplotlib, torch, typing-extensions, cachetools, graphviz, mxnet-cu100, seasonal, lunardate, pymeeus, convertdate, korean-lunar-calendar, holidays, setuptools-git, Cython, pystan, fbprophet, pmdarima, tbats, sklearn, easydict, Keras, torchvision, nbeats-pytorch, dataclasses, pydantic, seaborn, psycopg2, zope.interface, DateTime, xlrd, gunicorn, PySocks, oauthlib, requests-oauthlib, tweepy, typing, lightgbm, jmespath, botocore, s3transfer, boto3, ujson, gluonts, numexpr, llvmlite, numba, mpmath, sympy, decorator, atspy\n",
            "\u001b[31mERROR: After October 2020 you may experience errors when installing or updating packages. This is because pip will change the way that it resolves dependency conflicts.\n",
            "\n",
            "We recommend you use --use-feature=2020-resolver to test your packages with the new resolver before it becomes the default.\n",
            "\n",
            "umap-learn 0.4.6 requires numba!=0.47,>=0.46, but you'll have numba 0.47.0 which is incompatible.\n",
            "torchvision 0.8.1 requires torch==1.7.0, but you'll have torch 1.4.0 which is incompatible.\n",
            "tensorflow-probability 0.11.0 requires cloudpickle==1.3, but you'll have cloudpickle 1.6.0 which is incompatible.\n",
            "tensorflow-probability 0.11.0 requires gast>=0.3.2, but you'll have gast 0.2.2 which is incompatible.\n",
            "tensorflow-metadata 0.24.0 requires absl-py<0.11,>=0.9, but you'll have absl-py 0.11.0 which is incompatible.\n",
            "spacy 2.2.4 requires tqdm<5.0.0,>=4.38.0, but you'll have tqdm 4.28.1 which is incompatible.\n",
            "nbeats-pytorch 1.3.0 requires numpy==1.16.2, but you'll have numpy 1.17.4 which is incompatible.\n",
            "nbclient 0.5.1 requires jupyter-client>=6.1.5, but you'll have jupyter-client 5.3.5 which is incompatible.\n",
            "mxnet-cu100 1.4.1 requires numpy<1.15.0,>=1.8.2, but you'll have numpy 1.17.4 which is incompatible.\n",
            "google-colab 1.0.0 requires pandas~=1.1.0; python_version >= \"3.0\", but you'll have pandas 0.25.3 which is incompatible.\n",
            "google-colab 1.0.0 requires requests~=2.23.0, but you'll have requests 2.25.0 which is incompatible.\n",
            "google-colab 1.0.0 requires tornado~=5.1.0; python_version >= \"3.0\", but you'll have tornado 6.1 which is incompatible.\n",
            "gluonts 0.4.2 requires holidays<0.10,>=0.9, but you'll have holidays 0.10.3 which is incompatible.\n",
            "gluonts 0.4.2 requires python-dateutil==2.8.0, but you'll have python-dateutil 2.8.1 which is incompatible.\n",
            "datascience 0.10.6 requires folium==0.2.1, but you'll have folium 0.8.3 which is incompatible.\n",
            "bokeh 2.1.1 requires typing-extensions>=3.7.4, but you'll have typing-extensions 3.6.6 which is incompatible.\n",
            "albumentations 0.1.12 requires imgaug<0.2.7,>=0.2.5, but you'll have imgaug 0.2.9 which is incompatible.\u001b[0m\n",
            "Successfully installed Cython-0.29.14 DateTime-4.3 Keras-2.2.5 Pillow-8.0.1 PySocks-1.7.1 absl-py-0.11.0 astor-0.8.1 atspy-0.2.8 boto3-1.16.18 botocore-1.19.18 cached-property-1.5.2 cachetools-4.0.0 certifi-2020.11.8 chardet-3.0.4 click-7.1.2 cloudpickle-1.6.0 contextvars-2.4 convertdate-2.3.0 cycler-0.10.0 dask-2.30.0 dataclasses-0.8 decorator-4.4.1 distributed-2.30.1 easydict-1.9 fbprophet-0.5 fsspec-0.8.4 gast-0.2.2 gluonts-0.4.2 google-pasta-0.2.0 graphviz-0.8.4 grpcio-1.33.2 gunicorn-20.0.4 h5py-3.1.0 heapdict-1.0.1 holidays-0.10.3 idna-2.10 immutables-0.14 importlib-metadata-2.0.0 jmespath-0.10.0 joblib-0.17.0 keras-applications-1.0.8 keras-preprocessing-1.1.2 kiwisolver-1.3.1 korean-lunar-calendar-0.2.1 lightgbm-2.2.3 llvmlite-0.35.0rc2 locket-0.2.0 lunardate-0.2.0 markdown-3.3.3 matplotlib-3.1.2 mpmath-1.1.0 msgpack-1.0.0 mxnet-cu100-1.4.1 nbeats-pytorch-1.3.0 numba-0.47.0 numexpr-2.7.1 numpy-1.17.4 oauthlib-3.1.0 opt-einsum-3.3.0 pandas-0.25.3 partd-1.1.0 patsy-0.5.1 pip-tools-4.2.0 pmdarima-1.5.2 protobuf-3.14.0 psutil-5.4.8 psycopg2-2.7.6.1 pydantic-1.4 pymeeus-0.3.7 pyparsing-2.4.7 pystan-2.19.1.1 python-dateutil-2.8.1 pytz-2020.4 pyyaml-5.3.1 requests-2.25.0 requests-oauthlib-1.3.0 s3transfer-0.3.3 scikit-learn-0.22.1 scipy-1.4.1 seaborn-0.9.1 seasonal-0.3.1 setuptools-50.3.2 setuptools-git-1.2 six-1.15.0 sklearn-0.0 sortedcontainers-2.3.0 statsmodels-0.10.2 sympy-1.1.1 tbats-1.0.9 tblib-1.6.0 tensorboard-1.15.0 tensorflow-1.15.0 tensorflow-estimator-1.15.1 termcolor-1.1.0 tflearn-0.3.2 toolz-0.11.1 torch-1.4.0 torchvision-0.8.1 tornado-6.1 tqdm-4.28.1 tsfresh-0.14.1 tweepy-3.6.0 typing-3.6.6 typing-extensions-3.6.6 ujson-1.35 urllib3-1.26.2 werkzeug-1.0.1 wheel-0.35.1 wrapt-1.12.1 xlrd-1.1.0 zict-2.0.0 zipp-3.4.0 zope.interface-5.2.0\n"
          ],
          "name": "stdout"
        },
        {
          "output_type": "display_data",
          "data": {
            "application/vnd.colab-display-data+json": {
              "pip_warning": {
                "packages": [
                  "cycler",
                  "decorator",
                  "kiwisolver",
                  "matplotlib",
                  "mpl_toolkits",
                  "numpy",
                  "pandas",
                  "pkg_resources",
                  "pyparsing",
                  "six",
                  "typing",
                  "zope"
                ]
              }
            }
          },
          "metadata": {
            "tags": []
          }
        }
      ]
    },
    {
      "cell_type": "code",
      "metadata": {
        "id": "E3MRvJhgadta",
        "colab": {
          "base_uri": "https://localhost:8080/"
        },
        "outputId": "977d2b2f-f32f-4328-853d-4c451ece1131"
      },
      "source": [
        " pip install --upgrade pip"
      ],
      "execution_count": null,
      "outputs": [
        {
          "output_type": "stream",
          "text": [
            "Requirement already up-to-date: pip in /usr/local/lib/python3.6/dist-packages (20.2.4)\n"
          ],
          "name": "stdout"
        }
      ]
    },
    {
      "cell_type": "code",
      "metadata": {
        "id": "nomOr6IzajmQ",
        "colab": {
          "base_uri": "https://localhost:8080/"
        },
        "outputId": "3e467647-bff1-4315-ab83-8085866b3cad"
      },
      "source": [
        "pip install example --use-feature=2020-resolver"
      ],
      "execution_count": null,
      "outputs": [
        {
          "output_type": "stream",
          "text": [
            "Collecting example\n",
            "  Downloading example-0.1.0.tar.gz (860 bytes)\n",
            "Requirement already satisfied: six in /usr/local/lib/python3.6/dist-packages (from example) (1.15.0)\n",
            "Building wheels for collected packages: example\n",
            "  Building wheel for example (setup.py) ... \u001b[?25l\u001b[?25hdone\n",
            "  Created wheel for example: filename=example-0.1.0-py3-none-any.whl size=1239 sha256=748c0ba8dbd0c70d3bb3bcb6fceaf3c3f55831b0f058c27576b18d6067dfef68\n",
            "  Stored in directory: /root/.cache/pip/wheels/b0/d5/18/114633c655bb2f1fd4c05e9fd6c799fed5026926b6fba555da\n",
            "Successfully built example\n",
            "Installing collected packages: example\n",
            "Successfully installed example-0.1.0\n"
          ],
          "name": "stdout"
        }
      ]
    },
    {
      "cell_type": "code",
      "metadata": {
        "id": "Tx3gY66ya66b",
        "colab": {
          "base_uri": "https://localhost:8080/"
        },
        "outputId": "0f1c6e34-2faa-4358-aa52-d607e9078870"
      },
      "source": [
        "!python3.8 setup.py"
      ],
      "execution_count": null,
      "outputs": [
        {
          "output_type": "stream",
          "text": [
            "python3.8: can't open file 'setup.py': [Errno 2] No such file or directory\n"
          ],
          "name": "stdout"
        }
      ]
    },
    {
      "cell_type": "code",
      "metadata": {
        "id": "ym7EJgKeGloq",
        "colab": {
          "base_uri": "https://localhost:8080/"
        },
        "outputId": "cc334275-2c07-48ca-c531-b7863eba70d8"
      },
      "source": [
        "from atspy import AutomatedModel"
      ],
      "execution_count": null,
      "outputs": [
        {
          "output_type": "stream",
          "text": [
            "INFO:root:Using CPU\n"
          ],
          "name": "stderr"
        }
      ]
    },
    {
      "cell_type": "code",
      "metadata": {
        "id": "nGbXoCW4uimu",
        "colab": {
          "base_uri": "https://localhost:8080/"
        },
        "outputId": "832a2aeb-cf77-47c7-c2cc-1c9d37d741db"
      },
      "source": [
        "!pip install pigar"
      ],
      "execution_count": null,
      "outputs": [
        {
          "output_type": "stream",
          "text": [
            "Requirement already satisfied: pigar in /usr/local/lib/python3.6/dist-packages (0.10.0)\n",
            "Requirement already satisfied: colorama>=0.3.9 in /usr/local/lib/python3.6/dist-packages (from pigar) (0.4.4)\n",
            "Requirement already satisfied: nbformat>=4.4.0 in /usr/local/lib/python3.6/dist-packages (from pigar) (5.0.8)\n",
            "Requirement already satisfied: requests>=2.20.0 in /usr/local/lib/python3.6/dist-packages (from pigar) (2.23.0)\n",
            "Requirement already satisfied: ipython-genutils in /usr/local/lib/python3.6/dist-packages (from nbformat>=4.4.0->pigar) (0.2.0)\n",
            "Requirement already satisfied: jupyter-core in /usr/local/lib/python3.6/dist-packages (from nbformat>=4.4.0->pigar) (4.6.3)\n",
            "Requirement already satisfied: traitlets>=4.1 in /usr/local/lib/python3.6/dist-packages (from nbformat>=4.4.0->pigar) (4.3.3)\n",
            "Requirement already satisfied: jsonschema!=2.5.0,>=2.4 in /usr/local/lib/python3.6/dist-packages (from nbformat>=4.4.0->pigar) (2.6.0)\n",
            "Requirement already satisfied: idna<3,>=2.5 in /usr/local/lib/python3.6/dist-packages (from requests>=2.20.0->pigar) (2.10)\n",
            "Requirement already satisfied: chardet<4,>=3.0.2 in /usr/local/lib/python3.6/dist-packages (from requests>=2.20.0->pigar) (3.0.4)\n",
            "Requirement already satisfied: urllib3!=1.25.0,!=1.25.1,<1.26,>=1.21.1 in /usr/local/lib/python3.6/dist-packages (from requests>=2.20.0->pigar) (1.24.3)\n",
            "Requirement already satisfied: certifi>=2017.4.17 in /usr/local/lib/python3.6/dist-packages (from requests>=2.20.0->pigar) (2020.6.20)\n",
            "Requirement already satisfied: six in /usr/local/lib/python3.6/dist-packages (from traitlets>=4.1->nbformat>=4.4.0->pigar) (1.15.0)\n",
            "Requirement already satisfied: decorator in /usr/local/lib/python3.6/dist-packages (from traitlets>=4.1->nbformat>=4.4.0->pigar) (4.4.1)\n"
          ],
          "name": "stdout"
        }
      ]
    },
    {
      "cell_type": "code",
      "metadata": {
        "id": "xK-sQlIfHh3v",
        "colab": {
          "base_uri": "https://localhost:8080/",
          "height": 446
        },
        "outputId": "b2b9a5b8-e0e9-4576-8980-eb5fe8c24ed8"
      },
      "source": [
        "df=df[[\"Date\",\"NN5-001\"]]\n",
        "df.Date = pd.to_datetime(df.Date)\n",
        "df = df.set_index(\"Date\"); df"
      ],
      "execution_count": null,
      "outputs": [
        {
          "output_type": "execute_result",
          "data": {
            "text/html": [
              "<div>\n",
              "<style scoped>\n",
              "    .dataframe tbody tr th:only-of-type {\n",
              "        vertical-align: middle;\n",
              "    }\n",
              "\n",
              "    .dataframe tbody tr th {\n",
              "        vertical-align: top;\n",
              "    }\n",
              "\n",
              "    .dataframe thead th {\n",
              "        text-align: right;\n",
              "    }\n",
              "</style>\n",
              "<table border=\"1\" class=\"dataframe\">\n",
              "  <thead>\n",
              "    <tr style=\"text-align: right;\">\n",
              "      <th></th>\n",
              "      <th>NN5-001</th>\n",
              "    </tr>\n",
              "    <tr>\n",
              "      <th>Date</th>\n",
              "      <th></th>\n",
              "    </tr>\n",
              "  </thead>\n",
              "  <tbody>\n",
              "    <tr>\n",
              "      <th>1996-03-18</th>\n",
              "      <td>13.407</td>\n",
              "    </tr>\n",
              "    <tr>\n",
              "      <th>1996-03-19</th>\n",
              "      <td>14.725</td>\n",
              "    </tr>\n",
              "    <tr>\n",
              "      <th>1996-03-20</th>\n",
              "      <td>20.564</td>\n",
              "    </tr>\n",
              "    <tr>\n",
              "      <th>1996-03-21</th>\n",
              "      <td>34.708</td>\n",
              "    </tr>\n",
              "    <tr>\n",
              "      <th>1996-03-22</th>\n",
              "      <td>26.630</td>\n",
              "    </tr>\n",
              "    <tr>\n",
              "      <th>...</th>\n",
              "      <td>...</td>\n",
              "    </tr>\n",
              "    <tr>\n",
              "      <th>1998-03-18</th>\n",
              "      <td>30.088</td>\n",
              "    </tr>\n",
              "    <tr>\n",
              "      <th>1998-03-19</th>\n",
              "      <td>54.138</td>\n",
              "    </tr>\n",
              "    <tr>\n",
              "      <th>1998-03-20</th>\n",
              "      <td>53.501</td>\n",
              "    </tr>\n",
              "    <tr>\n",
              "      <th>1998-03-21</th>\n",
              "      <td>39.697</td>\n",
              "    </tr>\n",
              "    <tr>\n",
              "      <th>1998-03-22</th>\n",
              "      <td>29.705</td>\n",
              "    </tr>\n",
              "  </tbody>\n",
              "</table>\n",
              "<p>735 rows × 1 columns</p>\n",
              "</div>"
            ],
            "text/plain": [
              "            NN5-001\n",
              "Date               \n",
              "1996-03-18   13.407\n",
              "1996-03-19   14.725\n",
              "1996-03-20   20.564\n",
              "1996-03-21   34.708\n",
              "1996-03-22   26.630\n",
              "...             ...\n",
              "1998-03-18   30.088\n",
              "1998-03-19   54.138\n",
              "1998-03-20   53.501\n",
              "1998-03-21   39.697\n",
              "1998-03-22   29.705\n",
              "\n",
              "[735 rows x 1 columns]"
            ]
          },
          "metadata": {
            "tags": []
          },
          "execution_count": 8
        }
      ]
    },
    {
      "cell_type": "markdown",
      "metadata": {
        "id": "MqcjEaxZYgn3"
      },
      "source": [
        ""
      ]
    },
    {
      "cell_type": "code",
      "metadata": {
        "id": "rzKy11umYg6B"
      },
      "source": [
        " df=df.fillna(df.mean()) "
      ],
      "execution_count": null,
      "outputs": []
    },
    {
      "cell_type": "code",
      "metadata": {
        "id": "3vH8D5iSvRAz",
        "colab": {
          "base_uri": "https://localhost:8080/"
        },
        "outputId": "1180a356-6a8a-45b3-f111-64dc264a650d"
      },
      "source": [
        "model_list=[\"NBEATS\", \"TBAT\", \"TATS\", \"TBATS1\", \"TBATP1\", \"TBATS2\"]\n",
        "am = AutomatedModel(df=df, model_list=model_list, season=\"infer_from_data\",forecast_len=60 )\n",
        "forecast_in,perfomance= am.forecast_insample()\n",
        "forecast_out = am.forecast_outsample()"
      ],
      "execution_count": null,
      "outputs": [
        {
          "output_type": "stream",
          "text": [
            "<class 'pandas.core.frame.DataFrame'>\n",
            "The data has been successfully parsed by infering a frequency, and establishing a 'Date' index and 'Target' column.\n",
            "551\n",
            "An insample split of training size 551 and testing size 184 has been constructed\n",
            "Model NBEATS is being trained for in sample prediction\n",
            "| N-Beats\n",
            "| --  Stack Generic (#0) (share_weights_in_stack=False)\n",
            "     | -- GenericBlock(units=128, thetas_dim=7, backcast_length=184, forecast_length=184, share_thetas=False) at @139928771743192\n",
            "     | -- GenericBlock(units=128, thetas_dim=7, backcast_length=184, forecast_length=184, share_thetas=False) at @139928771743640\n",
            "     | -- GenericBlock(units=128, thetas_dim=7, backcast_length=184, forecast_length=184, share_thetas=False) at @139928764162512\n",
            "| --  Stack Generic (#1) (share_weights_in_stack=False)\n",
            "     | -- GenericBlock(units=128, thetas_dim=8, backcast_length=184, forecast_length=184, share_thetas=False) at @139928764163016\n",
            "     | -- GenericBlock(units=128, thetas_dim=8, backcast_length=184, forecast_length=184, share_thetas=False) at @139928764163520\n",
            "     | -- GenericBlock(units=128, thetas_dim=8, backcast_length=184, forecast_length=184, share_thetas=False) at @139928764164024\n",
            "Model TBAT is being trained for in sample prediction\n"
          ],
          "name": "stdout"
        },
        {
          "output_type": "stream",
          "text": [
            "INFO:numexpr.utils:NumExpr defaulting to 2 threads.\n"
          ],
          "name": "stderr"
        },
        {
          "output_type": "stream",
          "text": [
            "Model TATS is being trained for in sample prediction\n",
            "The following set of plausible SSA seasonalities have been identified: {7}\n",
            "Model TBATS1 is being trained for in sample prediction\n",
            "Model TBATP1 is being trained for in sample prediction\n",
            "Model TBATS2 is being trained for in sample prediction\n",
            "The following set of plausible SSA seasonalities have been identified: {4, 7}\n",
            "Model NBEATS is being used to forcast in sample\n",
            "Model TBAT is being used to forcast in sample\n",
            "Model TATS is being used to forcast in sample\n",
            "Model TBATS1 is being used to forcast in sample\n",
            "Model TBATP1 is being used to forcast in sample\n",
            "Model TBATS2 is being used to forcast in sample\n",
            "Successfully finished in sample forecast\n",
            "<class 'pandas.core.frame.DataFrame'>\n",
            "The data has been successfully parsed by infering a frequency, and establishing a 'Date' index and 'Target' column.\n",
            "Model NBEATS is being trained for out of sample prediction\n",
            "| N-Beats\n",
            "| --  Stack Generic (#0) (share_weights_in_stack=False)\n",
            "     | -- GenericBlock(units=128, thetas_dim=7, backcast_length=60, forecast_length=60, share_thetas=False) at @139928771742464\n",
            "     | -- GenericBlock(units=128, thetas_dim=7, backcast_length=60, forecast_length=60, share_thetas=False) at @139928746998696\n",
            "     | -- GenericBlock(units=128, thetas_dim=7, backcast_length=60, forecast_length=60, share_thetas=False) at @139928746871608\n",
            "| --  Stack Generic (#1) (share_weights_in_stack=False)\n",
            "     | -- GenericBlock(units=128, thetas_dim=8, backcast_length=60, forecast_length=60, share_thetas=False) at @139928746870768\n",
            "     | -- GenericBlock(units=128, thetas_dim=8, backcast_length=60, forecast_length=60, share_thetas=False) at @139928746872280\n",
            "     | -- GenericBlock(units=128, thetas_dim=8, backcast_length=60, forecast_length=60, share_thetas=False) at @139928746871944\n",
            "Model TBAT is being trained for out of sample prediction\n",
            "Model TATS is being trained for out of sample prediction\n",
            "The following set of plausible SSA seasonalities have been identified: {7}\n",
            "Model TBATS1 is being trained for out of sample prediction\n",
            "Model TBATP1 is being trained for out of sample prediction\n",
            "Model TBATS2 is being trained for out of sample prediction\n",
            "The following set of plausible SSA seasonalities have been identified: {4, 7}\n",
            "Model NBEATS is being used to forcast out of sample\n",
            "Model TBAT is being used to forcast out of sample\n",
            "Model TATS is being used to forcast out of sample\n",
            "Model TBATS1 is being used to forcast out of sample\n",
            "Model TBATP1 is being used to forcast out of sample\n",
            "Model TBATS2 is being used to forcast out of sample\n",
            "Successfully finished out of sample forecast\n"
          ],
          "name": "stdout"
        }
      ]
    },
    {
      "cell_type": "code",
      "metadata": {
        "id": "MBea7v-4wq6M",
        "colab": {
          "base_uri": "https://localhost:8080/"
        },
        "outputId": "6ca52103-664a-4f0d-bac7-8f9928a141a2"
      },
      "source": [
        "all_ensemble_in, all_ensemble_out, all_performance = am.ensemble(forecast_in, forecast_out)"
      ],
      "execution_count": null,
      "outputs": [
        {
          "output_type": "stream",
          "text": [
            "Building LightGBM Ensemble from TS data (ensemble_lgb)\n",
            "Building LightGBM Ensemble from PCA reduced TSFresh Features (ensemble_ts). This can take a long time.\n",
            "LightGBM ensemble have been successfully built\n",
            "678  variables are found to be almost constant\n",
            "LightGBM ensemble have been successfully built\n",
            "Building Standard First Level Ensemble\n",
            "Building Final Multi-level Ensemble\n"
          ],
          "name": "stdout"
        }
      ]
    },
    {
      "cell_type": "code",
      "metadata": {
        "id": "J3zJjHSGniwa",
        "colab": {
          "base_uri": "https://localhost:8080/",
          "height": 233
        },
        "outputId": "a2f09dd6-48e2-459b-cc37-ea235566fd73"
      },
      "source": [
        "forecast_out.head()"
      ],
      "execution_count": null,
      "outputs": [
        {
          "output_type": "execute_result",
          "data": {
            "text/html": [
              "<div>\n",
              "<style scoped>\n",
              "    .dataframe tbody tr th:only-of-type {\n",
              "        vertical-align: middle;\n",
              "    }\n",
              "\n",
              "    .dataframe tbody tr th {\n",
              "        vertical-align: top;\n",
              "    }\n",
              "\n",
              "    .dataframe thead th {\n",
              "        text-align: right;\n",
              "    }\n",
              "</style>\n",
              "<table border=\"1\" class=\"dataframe\">\n",
              "  <thead>\n",
              "    <tr style=\"text-align: right;\">\n",
              "      <th></th>\n",
              "      <th>NBEATS</th>\n",
              "      <th>TBAT</th>\n",
              "      <th>TATS</th>\n",
              "      <th>TBATS1</th>\n",
              "      <th>TBATP1</th>\n",
              "      <th>TBATS2</th>\n",
              "    </tr>\n",
              "    <tr>\n",
              "      <th>Date</th>\n",
              "      <th></th>\n",
              "      <th></th>\n",
              "      <th></th>\n",
              "      <th></th>\n",
              "      <th></th>\n",
              "      <th></th>\n",
              "    </tr>\n",
              "  </thead>\n",
              "  <tbody>\n",
              "    <tr>\n",
              "      <th>1998-03-23</th>\n",
              "      <td>51.521034</td>\n",
              "      <td>34.811997</td>\n",
              "      <td>26.999025</td>\n",
              "      <td>26.999025</td>\n",
              "      <td>26.999025</td>\n",
              "      <td>26.791996</td>\n",
              "    </tr>\n",
              "    <tr>\n",
              "      <th>1998-03-24</th>\n",
              "      <td>40.039261</td>\n",
              "      <td>34.849588</td>\n",
              "      <td>32.481634</td>\n",
              "      <td>32.481634</td>\n",
              "      <td>32.481634</td>\n",
              "      <td>33.494481</td>\n",
              "    </tr>\n",
              "    <tr>\n",
              "      <th>1998-03-25</th>\n",
              "      <td>28.903126</td>\n",
              "      <td>34.883238</td>\n",
              "      <td>38.669156</td>\n",
              "      <td>38.669156</td>\n",
              "      <td>38.669156</td>\n",
              "      <td>39.045353</td>\n",
              "    </tr>\n",
              "    <tr>\n",
              "      <th>1998-03-26</th>\n",
              "      <td>18.325396</td>\n",
              "      <td>34.913358</td>\n",
              "      <td>51.446627</td>\n",
              "      <td>51.446627</td>\n",
              "      <td>51.446627</td>\n",
              "      <td>50.574387</td>\n",
              "    </tr>\n",
              "    <tr>\n",
              "      <th>1998-03-27</th>\n",
              "      <td>11.154381</td>\n",
              "      <td>34.940321</td>\n",
              "      <td>41.691394</td>\n",
              "      <td>41.691394</td>\n",
              "      <td>41.691394</td>\n",
              "      <td>41.432945</td>\n",
              "    </tr>\n",
              "  </tbody>\n",
              "</table>\n",
              "</div>"
            ],
            "text/plain": [
              "               NBEATS       TBAT       TATS     TBATS1     TBATP1     TBATS2\n",
              "Date                                                                        \n",
              "1998-03-23  51.521034  34.811997  26.999025  26.999025  26.999025  26.791996\n",
              "1998-03-24  40.039261  34.849588  32.481634  32.481634  32.481634  33.494481\n",
              "1998-03-25  28.903126  34.883238  38.669156  38.669156  38.669156  39.045353\n",
              "1998-03-26  18.325396  34.913358  51.446627  51.446627  51.446627  50.574387\n",
              "1998-03-27  11.154381  34.940321  41.691394  41.691394  41.691394  41.432945"
            ]
          },
          "metadata": {
            "tags": []
          },
          "execution_count": 14
        }
      ]
    },
    {
      "cell_type": "code",
      "metadata": {
        "id": "yu7eMhB5pQmP",
        "colab": {
          "base_uri": "https://localhost:8080/",
          "height": 141
        },
        "outputId": "28ab3e43-e5f2-4508-d543-2dcd2cf4f392"
      },
      "source": [
        "perfomance"
      ],
      "execution_count": null,
      "outputs": [
        {
          "output_type": "execute_result",
          "data": {
            "text/html": [
              "<div>\n",
              "<style scoped>\n",
              "    .dataframe tbody tr th:only-of-type {\n",
              "        vertical-align: middle;\n",
              "    }\n",
              "\n",
              "    .dataframe tbody tr th {\n",
              "        vertical-align: top;\n",
              "    }\n",
              "\n",
              "    .dataframe thead th {\n",
              "        text-align: right;\n",
              "    }\n",
              "</style>\n",
              "<table border=\"1\" class=\"dataframe\">\n",
              "  <thead>\n",
              "    <tr style=\"text-align: right;\">\n",
              "      <th></th>\n",
              "      <th>Target</th>\n",
              "      <th>NBEATS</th>\n",
              "      <th>TBAT</th>\n",
              "      <th>TATS</th>\n",
              "      <th>TBATS1</th>\n",
              "      <th>TBATP1</th>\n",
              "      <th>TBATS2</th>\n",
              "    </tr>\n",
              "  </thead>\n",
              "  <tbody>\n",
              "    <tr>\n",
              "      <th>rmse</th>\n",
              "      <td>0.000000</td>\n",
              "      <td>11.168242</td>\n",
              "      <td>14.113961</td>\n",
              "      <td>10.207805</td>\n",
              "      <td>10.207805</td>\n",
              "      <td>10.207805</td>\n",
              "      <td>10.158331</td>\n",
              "    </tr>\n",
              "    <tr>\n",
              "      <th>mse</th>\n",
              "      <td>0.000000</td>\n",
              "      <td>124.729621</td>\n",
              "      <td>199.203889</td>\n",
              "      <td>104.199280</td>\n",
              "      <td>104.199280</td>\n",
              "      <td>104.199280</td>\n",
              "      <td>103.191694</td>\n",
              "    </tr>\n",
              "    <tr>\n",
              "      <th>mean</th>\n",
              "      <td>34.075217</td>\n",
              "      <td>38.144417</td>\n",
              "      <td>33.878680</td>\n",
              "      <td>32.891824</td>\n",
              "      <td>32.891824</td>\n",
              "      <td>32.891824</td>\n",
              "      <td>32.901282</td>\n",
              "    </tr>\n",
              "  </tbody>\n",
              "</table>\n",
              "</div>"
            ],
            "text/plain": [
              "         Target      NBEATS        TBAT  ...      TBATS1      TBATP1      TBATS2\n",
              "rmse   0.000000   11.168242   14.113961  ...   10.207805   10.207805   10.158331\n",
              "mse    0.000000  124.729621  199.203889  ...  104.199280  104.199280  103.191694\n",
              "mean  34.075217   38.144417   33.878680  ...   32.891824   32.891824   32.901282\n",
              "\n",
              "[3 rows x 7 columns]"
            ]
          },
          "metadata": {
            "tags": []
          },
          "execution_count": 18
        }
      ]
    },
    {
      "cell_type": "code",
      "metadata": {
        "id": "K6khyWqcpTJ5",
        "colab": {
          "base_uri": "https://localhost:8080/",
          "height": 529
        },
        "outputId": "476c9848-0fc0-41ac-c25f-1039276f56a8"
      },
      "source": [
        "all_performance"
      ],
      "execution_count": null,
      "outputs": [
        {
          "output_type": "execute_result",
          "data": {
            "text/html": [
              "<div>\n",
              "<style scoped>\n",
              "    .dataframe tbody tr th:only-of-type {\n",
              "        vertical-align: middle;\n",
              "    }\n",
              "\n",
              "    .dataframe tbody tr th {\n",
              "        vertical-align: top;\n",
              "    }\n",
              "\n",
              "    .dataframe thead th {\n",
              "        text-align: right;\n",
              "    }\n",
              "</style>\n",
              "<table border=\"1\" class=\"dataframe\">\n",
              "  <thead>\n",
              "    <tr style=\"text-align: right;\">\n",
              "      <th></th>\n",
              "      <th>rmse</th>\n",
              "      <th>mse</th>\n",
              "      <th>mean</th>\n",
              "    </tr>\n",
              "  </thead>\n",
              "  <tbody>\n",
              "    <tr>\n",
              "      <th>TBATS2</th>\n",
              "      <td>9.127029</td>\n",
              "      <td>83.302655</td>\n",
              "      <td>33.080246</td>\n",
              "    </tr>\n",
              "    <tr>\n",
              "      <th>TBATS2__X__TBATS2_TATS</th>\n",
              "      <td>9.133624</td>\n",
              "      <td>83.423086</td>\n",
              "      <td>33.079596</td>\n",
              "    </tr>\n",
              "    <tr>\n",
              "      <th>TBATS2__X__TBATS2_TATS__X__TBATS2_TATS_TBATS1</th>\n",
              "      <td>9.137948</td>\n",
              "      <td>83.502088</td>\n",
              "      <td>33.079236</td>\n",
              "    </tr>\n",
              "    <tr>\n",
              "      <th>TBATS2_TATS</th>\n",
              "      <td>9.141745</td>\n",
              "      <td>83.571509</td>\n",
              "      <td>33.078947</td>\n",
              "    </tr>\n",
              "    <tr>\n",
              "      <th>TBATS2__X__TBATS2_TATS__X__TBATS2_TATS_TBATS1__X__TBATS2_TATS_TBATS1_TBATP1__X__TATS</th>\n",
              "      <td>9.144791</td>\n",
              "      <td>83.627204</td>\n",
              "      <td>33.078730</td>\n",
              "    </tr>\n",
              "    <tr>\n",
              "      <th>TBATS2_TATS_TBATS1</th>\n",
              "      <td>9.148006</td>\n",
              "      <td>83.686009</td>\n",
              "      <td>33.078514</td>\n",
              "    </tr>\n",
              "    <tr>\n",
              "      <th>TBATS2__X__TBATS2_TATS__X__TBATS2_TATS_TBATS1__X__TBATS2_TATS_TBATS1_TBATP1__X__TATS__X__TBATS1__X__TBATP1</th>\n",
              "      <td>9.149435</td>\n",
              "      <td>83.712163</td>\n",
              "      <td>33.078421</td>\n",
              "    </tr>\n",
              "    <tr>\n",
              "      <th>TBATS2_TATS_TBATS1_TBATP1</th>\n",
              "      <td>9.151389</td>\n",
              "      <td>83.747924</td>\n",
              "      <td>33.078298</td>\n",
              "    </tr>\n",
              "    <tr>\n",
              "      <th>TATS</th>\n",
              "      <td>9.162550</td>\n",
              "      <td>83.952331</td>\n",
              "      <td>33.077648</td>\n",
              "    </tr>\n",
              "    <tr>\n",
              "      <th>TBATS1</th>\n",
              "      <td>9.162550</td>\n",
              "      <td>83.952331</td>\n",
              "      <td>33.077648</td>\n",
              "    </tr>\n",
              "    <tr>\n",
              "      <th>TBATP1</th>\n",
              "      <td>9.162550</td>\n",
              "      <td>83.952331</td>\n",
              "      <td>33.077648</td>\n",
              "    </tr>\n",
              "    <tr>\n",
              "      <th>ensemble_lgb</th>\n",
              "      <td>10.757376</td>\n",
              "      <td>115.721130</td>\n",
              "      <td>38.879692</td>\n",
              "    </tr>\n",
              "    <tr>\n",
              "      <th>NBEATS</th>\n",
              "      <td>12.349602</td>\n",
              "      <td>152.512674</td>\n",
              "      <td>40.699478</td>\n",
              "    </tr>\n",
              "    <tr>\n",
              "      <th>TBAT</th>\n",
              "      <td>13.158564</td>\n",
              "      <td>173.147814</td>\n",
              "      <td>33.900514</td>\n",
              "    </tr>\n",
              "    <tr>\n",
              "      <th>ensemble_ts</th>\n",
              "      <td>13.506049</td>\n",
              "      <td>182.413368</td>\n",
              "      <td>43.187588</td>\n",
              "    </tr>\n",
              "  </tbody>\n",
              "</table>\n",
              "</div>"
            ],
            "text/plain": [
              "                                                         rmse  ...       mean\n",
              "TBATS2                                               9.127029  ...  33.080246\n",
              "TBATS2__X__TBATS2_TATS                               9.133624  ...  33.079596\n",
              "TBATS2__X__TBATS2_TATS__X__TBATS2_TATS_TBATS1        9.137948  ...  33.079236\n",
              "TBATS2_TATS                                          9.141745  ...  33.078947\n",
              "TBATS2__X__TBATS2_TATS__X__TBATS2_TATS_TBATS1__...   9.144791  ...  33.078730\n",
              "TBATS2_TATS_TBATS1                                   9.148006  ...  33.078514\n",
              "TBATS2__X__TBATS2_TATS__X__TBATS2_TATS_TBATS1__...   9.149435  ...  33.078421\n",
              "TBATS2_TATS_TBATS1_TBATP1                            9.151389  ...  33.078298\n",
              "TATS                                                 9.162550  ...  33.077648\n",
              "TBATS1                                               9.162550  ...  33.077648\n",
              "TBATP1                                               9.162550  ...  33.077648\n",
              "ensemble_lgb                                        10.757376  ...  38.879692\n",
              "NBEATS                                              12.349602  ...  40.699478\n",
              "TBAT                                                13.158564  ...  33.900514\n",
              "ensemble_ts                                         13.506049  ...  43.187588\n",
              "\n",
              "[15 rows x 3 columns]"
            ]
          },
          "metadata": {
            "tags": []
          },
          "execution_count": 19
        }
      ]
    },
    {
      "cell_type": "code",
      "metadata": {
        "id": "KV69LD45pbQ7",
        "colab": {
          "base_uri": "https://localhost:8080/",
          "height": 331
        },
        "outputId": "57db2be7-7d56-4f40-bf73-5c263abad144"
      },
      "source": [
        "all_ensemble_in[[\"Target\",\"TBATS2__X__TBATS2_TATS\",\"TBATS2__X__TBATS2_TATS__X__TBATS2_TATS_TBATS1\",\"TBATS2\"]].plot()"
      ],
      "execution_count": null,
      "outputs": [
        {
          "output_type": "execute_result",
          "data": {
            "text/plain": [
              "<matplotlib.axes._subplots.AxesSubplot at 0x7f43a3eb32b0>"
            ]
          },
          "metadata": {
            "tags": []
          },
          "execution_count": 24
        },
        {
          "output_type": "display_data",
          "data": {
            "image/png": "[encoded data removed]",
            "text/plain": [
              "<Figure size 792x288 with 1 Axes>"
            ]
          },
          "metadata": {
            "tags": [],
            "needs_background": "light"
          }
        }
      ]
    },
    {
      "cell_type": "code",
      "metadata": {
        "id": "5NIRl0Ysp0Nu",
        "colab": {
          "base_uri": "https://localhost:8080/",
          "height": 331
        },
        "outputId": "360cb4c4-ea2d-4f0d-ad4a-e493856c2314"
      },
      "source": [
        "all_ensemble_out[[\"TBATS2\",\"TBATS2__X__TBATS2_TATS\",\"TBATS2__X__TBATS2_TATS__X__TBATS2_TATS_TBATS1\"]].plot()"
      ],
      "execution_count": null,
      "outputs": [
        {
          "output_type": "execute_result",
          "data": {
            "text/plain": [
              "<matplotlib.axes._subplots.AxesSubplot at 0x7f43b18463c8>"
            ]
          },
          "metadata": {
            "tags": []
          },
          "execution_count": 21
        },
        {
          "output_type": "display_data",
          "data": {
            "image/png": "[encoded data removed]",
            "text/plain": [
              "<Figure size 792x288 with 1 Axes>"
            ]
          },
          "metadata": {
            "tags": [],
            "needs_background": "light"
          }
        }
      ]
    },
    {
      "cell_type": "code",
      "metadata": {
        "id": "mgDaGfTYqGSo",
        "colab": {
          "base_uri": "https://localhost:8080/"
        },
        "outputId": "5d47dd30-23b8-4ac1-9053-c9d1d22d0359"
      },
      "source": [
        "am.models_dict_in"
      ],
      "execution_count": null,
      "outputs": [
        {
          "output_type": "execute_result",
          "data": {
            "text/plain": [
              "{'NBEATS': {'constant': 75.95, 'model': NBeatsNet(\n",
              "    (parameters): ParameterList(\n",
              "        (0): Parameter containing: [torch.FloatTensor of size 128x184]\n",
              "        (1): Parameter containing: [torch.FloatTensor of size 128]\n",
              "        (2): Parameter containing: [torch.FloatTensor of size 128x128]\n",
              "        (3): Parameter containing: [torch.FloatTensor of size 128]\n",
              "        (4): Parameter containing: [torch.FloatTensor of size 128x128]\n",
              "        (5): Parameter containing: [torch.FloatTensor of size 128]\n",
              "        (6): Parameter containing: [torch.FloatTensor of size 128x128]\n",
              "        (7): Parameter containing: [torch.FloatTensor of size 128]\n",
              "        (8): Parameter containing: [torch.FloatTensor of size 7x128]\n",
              "        (9): Parameter containing: [torch.FloatTensor of size 7x128]\n",
              "        (10): Parameter containing: [torch.FloatTensor of size 184x7]\n",
              "        (11): Parameter containing: [torch.FloatTensor of size 184]\n",
              "        (12): Parameter containing: [torch.FloatTensor of size 184x7]\n",
              "        (13): Parameter containing: [torch.FloatTensor of size 184]\n",
              "        (14): Parameter containing: [torch.FloatTensor of size 128x184]\n",
              "        (15): Parameter containing: [torch.FloatTensor of size 128]\n",
              "        (16): Parameter containing: [torch.FloatTensor of size 128x128]\n",
              "        (17): Parameter containing: [torch.FloatTensor of size 128]\n",
              "        (18): Parameter containing: [torch.FloatTensor of size 128x128]\n",
              "        (19): Parameter containing: [torch.FloatTensor of size 128]\n",
              "        (20): Parameter containing: [torch.FloatTensor of size 128x128]\n",
              "        (21): Parameter containing: [torch.FloatTensor of size 128]\n",
              "        (22): Parameter containing: [torch.FloatTensor of size 7x128]\n",
              "        (23): Parameter containing: [torch.FloatTensor of size 7x128]\n",
              "        (24): Parameter containing: [torch.FloatTensor of size 184x7]\n",
              "        (25): Parameter containing: [torch.FloatTensor of size 184]\n",
              "        (26): Parameter containing: [torch.FloatTensor of size 184x7]\n",
              "        (27): Parameter containing: [torch.FloatTensor of size 184]\n",
              "        (28): Parameter containing: [torch.FloatTensor of size 128x184]\n",
              "        (29): Parameter containing: [torch.FloatTensor of size 128]\n",
              "        (30): Parameter containing: [torch.FloatTensor of size 128x128]\n",
              "        (31): Parameter containing: [torch.FloatTensor of size 128]\n",
              "        (32): Parameter containing: [torch.FloatTensor of size 128x128]\n",
              "        (33): Parameter containing: [torch.FloatTensor of size 128]\n",
              "        (34): Parameter containing: [torch.FloatTensor of size 128x128]\n",
              "        (35): Parameter containing: [torch.FloatTensor of size 128]\n",
              "        (36): Parameter containing: [torch.FloatTensor of size 7x128]\n",
              "        (37): Parameter containing: [torch.FloatTensor of size 7x128]\n",
              "        (38): Parameter containing: [torch.FloatTensor of size 184x7]\n",
              "        (39): Parameter containing: [torch.FloatTensor of size 184]\n",
              "        (40): Parameter containing: [torch.FloatTensor of size 184x7]\n",
              "        (41): Parameter containing: [torch.FloatTensor of size 184]\n",
              "        (42): Parameter containing: [torch.FloatTensor of size 128x184]\n",
              "        (43): Parameter containing: [torch.FloatTensor of size 128]\n",
              "        (44): Parameter containing: [torch.FloatTensor of size 128x128]\n",
              "        (45): Parameter containing: [torch.FloatTensor of size 128]\n",
              "        (46): Parameter containing: [torch.FloatTensor of size 128x128]\n",
              "        (47): Parameter containing: [torch.FloatTensor of size 128]\n",
              "        (48): Parameter containing: [torch.FloatTensor of size 128x128]\n",
              "        (49): Parameter containing: [torch.FloatTensor of size 128]\n",
              "        (50): Parameter containing: [torch.FloatTensor of size 8x128]\n",
              "        (51): Parameter containing: [torch.FloatTensor of size 8x128]\n",
              "        (52): Parameter containing: [torch.FloatTensor of size 184x8]\n",
              "        (53): Parameter containing: [torch.FloatTensor of size 184]\n",
              "        (54): Parameter containing: [torch.FloatTensor of size 184x8]\n",
              "        (55): Parameter containing: [torch.FloatTensor of size 184]\n",
              "        (56): Parameter containing: [torch.FloatTensor of size 128x184]\n",
              "        (57): Parameter containing: [torch.FloatTensor of size 128]\n",
              "        (58): Parameter containing: [torch.FloatTensor of size 128x128]\n",
              "        (59): Parameter containing: [torch.FloatTensor of size 128]\n",
              "        (60): Parameter containing: [torch.FloatTensor of size 128x128]\n",
              "        (61): Parameter containing: [torch.FloatTensor of size 128]\n",
              "        (62): Parameter containing: [torch.FloatTensor of size 128x128]\n",
              "        (63): Parameter containing: [torch.FloatTensor of size 128]\n",
              "        (64): Parameter containing: [torch.FloatTensor of size 8x128]\n",
              "        (65): Parameter containing: [torch.FloatTensor of size 8x128]\n",
              "        (66): Parameter containing: [torch.FloatTensor of size 184x8]\n",
              "        (67): Parameter containing: [torch.FloatTensor of size 184]\n",
              "        (68): Parameter containing: [torch.FloatTensor of size 184x8]\n",
              "        (69): Parameter containing: [torch.FloatTensor of size 184]\n",
              "        (70): Parameter containing: [torch.FloatTensor of size 128x184]\n",
              "        (71): Parameter containing: [torch.FloatTensor of size 128]\n",
              "        (72): Parameter containing: [torch.FloatTensor of size 128x128]\n",
              "        (73): Parameter containing: [torch.FloatTensor of size 128]\n",
              "        (74): Parameter containing: [torch.FloatTensor of size 128x128]\n",
              "        (75): Parameter containing: [torch.FloatTensor of size 128]\n",
              "        (76): Parameter containing: [torch.FloatTensor of size 128x128]\n",
              "        (77): Parameter containing: [torch.FloatTensor of size 128]\n",
              "        (78): Parameter containing: [torch.FloatTensor of size 8x128]\n",
              "        (79): Parameter containing: [torch.FloatTensor of size 8x128]\n",
              "        (80): Parameter containing: [torch.FloatTensor of size 184x8]\n",
              "        (81): Parameter containing: [torch.FloatTensor of size 184]\n",
              "        (82): Parameter containing: [torch.FloatTensor of size 184x8]\n",
              "        (83): Parameter containing: [torch.FloatTensor of size 184]\n",
              "    )\n",
              "  ), 'x_test': array([[0.60868993, 0.4594075 , 0.        , ..., 0.49859118, 0.63967084,\n",
              "          0.36983496],\n",
              "         [0.4594075 , 0.        , 0.52808427, ..., 0.63967084, 0.36983496,\n",
              "          0.36983496],\n",
              "         [0.        , 0.52808427, 0.59414088, ..., 0.36983496, 0.36983496,\n",
              "          0.31890718],\n",
              "         ...,\n",
              "         [0.24556945, 0.40063199, 0.49374589, ..., 0.22522712, 0.3360632 ,\n",
              "          0.49225806],\n",
              "         [0.40063199, 0.49374589, 0.43794602, ..., 0.3360632 , 0.49225806,\n",
              "          0.69452271],\n",
              "         [0.49374589, 0.43794602, 0.27915734, ..., 0.49225806, 0.69452271,\n",
              "          0.52285714]]), 'y_test': array([[0.36983496, 0.31890718, 0.20451613, ..., 0.77048058, 0.5318104 ,\n",
              "          0.64115866],\n",
              "         [0.31890718, 0.20451613, 0.32580645, ..., 0.5318104 , 0.64115866,\n",
              "          0.68949309],\n",
              "         [0.20451613, 0.32580645, 0.43776169, ..., 0.64115866, 0.68949309,\n",
              "          1.        ],\n",
              "         ...,\n",
              "         [0.69452271, 0.52285714, 0.45269256, ..., 0.39615537, 0.71281106,\n",
              "          0.70442396],\n",
              "         [0.52285714, 0.45269256, 0.35957867, ..., 0.71281106, 0.70442396,\n",
              "          0.52267281],\n",
              "         [0.45269256, 0.35957867, 0.2638578 , ..., 0.70442396, 0.52267281,\n",
              "          0.39111257]])},\n",
              " 'TATS': <tbats.tbats.Model.Model at 0x7f43b346c358>,\n",
              " 'TBAT': <tbats.tbats.Model.Model at 0x7f43b346ca58>,\n",
              " 'TBATP1': <tbats.tbats.Model.Model at 0x7f43b346cd30>,\n",
              " 'TBATS1': <tbats.tbats.Model.Model at 0x7f43b346c2b0>,\n",
              " 'TBATS2': <tbats.tbats.Model.Model at 0x7f43b346c128>}"
            ]
          },
          "metadata": {
            "tags": []
          },
          "execution_count": 22
        }
      ]
    },
    {
      "cell_type": "code",
      "metadata": {
        "id": "EkUnUQadqP73",
        "colab": {
          "base_uri": "https://localhost:8080/"
        },
        "outputId": "c5daf1e1-1a40-4161-f7b3-b89a33900e53"
      },
      "source": [
        "am.models_dict_out"
      ],
      "execution_count": null,
      "outputs": [
        {
          "output_type": "execute_result",
          "data": {
            "text/plain": [
              "{'NBEATS': {'model': NBeatsNet(\n",
              "    (parameters): ParameterList(\n",
              "        (0): Parameter containing: [torch.FloatTensor of size 128x60]\n",
              "        (1): Parameter containing: [torch.FloatTensor of size 128]\n",
              "        (2): Parameter containing: [torch.FloatTensor of size 128x128]\n",
              "        (3): Parameter containing: [torch.FloatTensor of size 128]\n",
              "        (4): Parameter containing: [torch.FloatTensor of size 128x128]\n",
              "        (5): Parameter containing: [torch.FloatTensor of size 128]\n",
              "        (6): Parameter containing: [torch.FloatTensor of size 128x128]\n",
              "        (7): Parameter containing: [torch.FloatTensor of size 128]\n",
              "        (8): Parameter containing: [torch.FloatTensor of size 7x128]\n",
              "        (9): Parameter containing: [torch.FloatTensor of size 7x128]\n",
              "        (10): Parameter containing: [torch.FloatTensor of size 60x7]\n",
              "        (11): Parameter containing: [torch.FloatTensor of size 60]\n",
              "        (12): Parameter containing: [torch.FloatTensor of size 60x7]\n",
              "        (13): Parameter containing: [torch.FloatTensor of size 60]\n",
              "        (14): Parameter containing: [torch.FloatTensor of size 128x60]\n",
              "        (15): Parameter containing: [torch.FloatTensor of size 128]\n",
              "        (16): Parameter containing: [torch.FloatTensor of size 128x128]\n",
              "        (17): Parameter containing: [torch.FloatTensor of size 128]\n",
              "        (18): Parameter containing: [torch.FloatTensor of size 128x128]\n",
              "        (19): Parameter containing: [torch.FloatTensor of size 128]\n",
              "        (20): Parameter containing: [torch.FloatTensor of size 128x128]\n",
              "        (21): Parameter containing: [torch.FloatTensor of size 128]\n",
              "        (22): Parameter containing: [torch.FloatTensor of size 7x128]\n",
              "        (23): Parameter containing: [torch.FloatTensor of size 7x128]\n",
              "        (24): Parameter containing: [torch.FloatTensor of size 60x7]\n",
              "        (25): Parameter containing: [torch.FloatTensor of size 60]\n",
              "        (26): Parameter containing: [torch.FloatTensor of size 60x7]\n",
              "        (27): Parameter containing: [torch.FloatTensor of size 60]\n",
              "        (28): Parameter containing: [torch.FloatTensor of size 128x60]\n",
              "        (29): Parameter containing: [torch.FloatTensor of size 128]\n",
              "        (30): Parameter containing: [torch.FloatTensor of size 128x128]\n",
              "        (31): Parameter containing: [torch.FloatTensor of size 128]\n",
              "        (32): Parameter containing: [torch.FloatTensor of size 128x128]\n",
              "        (33): Parameter containing: [torch.FloatTensor of size 128]\n",
              "        (34): Parameter containing: [torch.FloatTensor of size 128x128]\n",
              "        (35): Parameter containing: [torch.FloatTensor of size 128]\n",
              "        (36): Parameter containing: [torch.FloatTensor of size 7x128]\n",
              "        (37): Parameter containing: [torch.FloatTensor of size 7x128]\n",
              "        (38): Parameter containing: [torch.FloatTensor of size 60x7]\n",
              "        (39): Parameter containing: [torch.FloatTensor of size 60]\n",
              "        (40): Parameter containing: [torch.FloatTensor of size 60x7]\n",
              "        (41): Parameter containing: [torch.FloatTensor of size 60]\n",
              "        (42): Parameter containing: [torch.FloatTensor of size 128x60]\n",
              "        (43): Parameter containing: [torch.FloatTensor of size 128]\n",
              "        (44): Parameter containing: [torch.FloatTensor of size 128x128]\n",
              "        (45): Parameter containing: [torch.FloatTensor of size 128]\n",
              "        (46): Parameter containing: [torch.FloatTensor of size 128x128]\n",
              "        (47): Parameter containing: [torch.FloatTensor of size 128]\n",
              "        (48): Parameter containing: [torch.FloatTensor of size 128x128]\n",
              "        (49): Parameter containing: [torch.FloatTensor of size 128]\n",
              "        (50): Parameter containing: [torch.FloatTensor of size 8x128]\n",
              "        (51): Parameter containing: [torch.FloatTensor of size 8x128]\n",
              "        (52): Parameter containing: [torch.FloatTensor of size 60x8]\n",
              "        (53): Parameter containing: [torch.FloatTensor of size 60]\n",
              "        (54): Parameter containing: [torch.FloatTensor of size 60x8]\n",
              "        (55): Parameter containing: [torch.FloatTensor of size 60]\n",
              "        (56): Parameter containing: [torch.FloatTensor of size 128x60]\n",
              "        (57): Parameter containing: [torch.FloatTensor of size 128]\n",
              "        (58): Parameter containing: [torch.FloatTensor of size 128x128]\n",
              "        (59): Parameter containing: [torch.FloatTensor of size 128]\n",
              "        (60): Parameter containing: [torch.FloatTensor of size 128x128]\n",
              "        (61): Parameter containing: [torch.FloatTensor of size 128]\n",
              "        (62): Parameter containing: [torch.FloatTensor of size 128x128]\n",
              "        (63): Parameter containing: [torch.FloatTensor of size 128]\n",
              "        (64): Parameter containing: [torch.FloatTensor of size 8x128]\n",
              "        (65): Parameter containing: [torch.FloatTensor of size 8x128]\n",
              "        (66): Parameter containing: [torch.FloatTensor of size 60x8]\n",
              "        (67): Parameter containing: [torch.FloatTensor of size 60]\n",
              "        (68): Parameter containing: [torch.FloatTensor of size 60x8]\n",
              "        (69): Parameter containing: [torch.FloatTensor of size 60]\n",
              "        (70): Parameter containing: [torch.FloatTensor of size 128x60]\n",
              "        (71): Parameter containing: [torch.FloatTensor of size 128]\n",
              "        (72): Parameter containing: [torch.FloatTensor of size 128x128]\n",
              "        (73): Parameter containing: [torch.FloatTensor of size 128]\n",
              "        (74): Parameter containing: [torch.FloatTensor of size 128x128]\n",
              "        (75): Parameter containing: [torch.FloatTensor of size 128]\n",
              "        (76): Parameter containing: [torch.FloatTensor of size 128x128]\n",
              "        (77): Parameter containing: [torch.FloatTensor of size 128]\n",
              "        (78): Parameter containing: [torch.FloatTensor of size 8x128]\n",
              "        (79): Parameter containing: [torch.FloatTensor of size 8x128]\n",
              "        (80): Parameter containing: [torch.FloatTensor of size 60x8]\n",
              "        (81): Parameter containing: [torch.FloatTensor of size 60]\n",
              "        (82): Parameter containing: [torch.FloatTensor of size 60x8]\n",
              "        (83): Parameter containing: [torch.FloatTensor of size 60]\n",
              "    )\n",
              "  ),\n",
              "  'tuple': (array([[0.19387755, 0.27075708, 0.45698486, ..., 0.29687953, 0.46575379,\n",
              "           0.37339039],\n",
              "          [0.27075708, 0.45698486, 0.35062541, ..., 0.46575379, 0.37339039,\n",
              "           0.24817643],\n",
              "          [0.45698486, 0.35062541, 0.21869651, ..., 0.37339039, 0.24817643,\n",
              "           0.20189598],\n",
              "          ...,\n",
              "          [0.60327847, 0.13286373, 0.25527321, ..., 0.36983496, 0.39410138,\n",
              "           0.30639895],\n",
              "          [0.13286373, 0.25527321, 0.29706386, ..., 0.39410138, 0.30639895,\n",
              "           0.39111257],\n",
              "          [0.25527321, 0.29706386, 0.42862409, ..., 0.30639895, 0.39111257,\n",
              "           0.45810402]]),\n",
              "   array([[0.24817643, 0.20189598, 0.17465438, ..., 0.19928901, 0.23977617,\n",
              "           0.31386438],\n",
              "          [0.20189598, 0.17465438, 0.23623436, ..., 0.23977617, 0.31386438,\n",
              "           0.37786702],\n",
              "          [0.17465438, 0.23623436, 0.30900592, ..., 0.31386438, 0.37786702,\n",
              "           0.53722186],\n",
              "          ...,\n",
              "          [0.39111257, 0.45810402, 0.80667544, ..., 0.39615537, 0.71281106,\n",
              "           0.70442396],\n",
              "          [0.45810402, 0.80667544, 0.56260698, ..., 0.71281106, 0.70442396,\n",
              "           0.52267281],\n",
              "          [0.80667544, 0.56260698, 0.40996708, ..., 0.70442396, 0.52267281,\n",
              "           0.39111257]]),\n",
              "   NBeatsNet(\n",
              "     (parameters): ParameterList(\n",
              "         (0): Parameter containing: [torch.FloatTensor of size 128x60]\n",
              "         (1): Parameter containing: [torch.FloatTensor of size 128]\n",
              "         (2): Parameter containing: [torch.FloatTensor of size 128x128]\n",
              "         (3): Parameter containing: [torch.FloatTensor of size 128]\n",
              "         (4): Parameter containing: [torch.FloatTensor of size 128x128]\n",
              "         (5): Parameter containing: [torch.FloatTensor of size 128]\n",
              "         (6): Parameter containing: [torch.FloatTensor of size 128x128]\n",
              "         (7): Parameter containing: [torch.FloatTensor of size 128]\n",
              "         (8): Parameter containing: [torch.FloatTensor of size 7x128]\n",
              "         (9): Parameter containing: [torch.FloatTensor of size 7x128]\n",
              "         (10): Parameter containing: [torch.FloatTensor of size 60x7]\n",
              "         (11): Parameter containing: [torch.FloatTensor of size 60]\n",
              "         (12): Parameter containing: [torch.FloatTensor of size 60x7]\n",
              "         (13): Parameter containing: [torch.FloatTensor of size 60]\n",
              "         (14): Parameter containing: [torch.FloatTensor of size 128x60]\n",
              "         (15): Parameter containing: [torch.FloatTensor of size 128]\n",
              "         (16): Parameter containing: [torch.FloatTensor of size 128x128]\n",
              "         (17): Parameter containing: [torch.FloatTensor of size 128]\n",
              "         (18): Parameter containing: [torch.FloatTensor of size 128x128]\n",
              "         (19): Parameter containing: [torch.FloatTensor of size 128]\n",
              "         (20): Parameter containing: [torch.FloatTensor of size 128x128]\n",
              "         (21): Parameter containing: [torch.FloatTensor of size 128]\n",
              "         (22): Parameter containing: [torch.FloatTensor of size 7x128]\n",
              "         (23): Parameter containing: [torch.FloatTensor of size 7x128]\n",
              "         (24): Parameter containing: [torch.FloatTensor of size 60x7]\n",
              "         (25): Parameter containing: [torch.FloatTensor of size 60]\n",
              "         (26): Parameter containing: [torch.FloatTensor of size 60x7]\n",
              "         (27): Parameter containing: [torch.FloatTensor of size 60]\n",
              "         (28): Parameter containing: [torch.FloatTensor of size 128x60]\n",
              "         (29): Parameter containing: [torch.FloatTensor of size 128]\n",
              "         (30): Parameter containing: [torch.FloatTensor of size 128x128]\n",
              "         (31): Parameter containing: [torch.FloatTensor of size 128]\n",
              "         (32): Parameter containing: [torch.FloatTensor of size 128x128]\n",
              "         (33): Parameter containing: [torch.FloatTensor of size 128]\n",
              "         (34): Parameter containing: [torch.FloatTensor of size 128x128]\n",
              "         (35): Parameter containing: [torch.FloatTensor of size 128]\n",
              "         (36): Parameter containing: [torch.FloatTensor of size 7x128]\n",
              "         (37): Parameter containing: [torch.FloatTensor of size 7x128]\n",
              "         (38): Parameter containing: [torch.FloatTensor of size 60x7]\n",
              "         (39): Parameter containing: [torch.FloatTensor of size 60]\n",
              "         (40): Parameter containing: [torch.FloatTensor of size 60x7]\n",
              "         (41): Parameter containing: [torch.FloatTensor of size 60]\n",
              "         (42): Parameter containing: [torch.FloatTensor of size 128x60]\n",
              "         (43): Parameter containing: [torch.FloatTensor of size 128]\n",
              "         (44): Parameter containing: [torch.FloatTensor of size 128x128]\n",
              "         (45): Parameter containing: [torch.FloatTensor of size 128]\n",
              "         (46): Parameter containing: [torch.FloatTensor of size 128x128]\n",
              "         (47): Parameter containing: [torch.FloatTensor of size 128]\n",
              "         (48): Parameter containing: [torch.FloatTensor of size 128x128]\n",
              "         (49): Parameter containing: [torch.FloatTensor of size 128]\n",
              "         (50): Parameter containing: [torch.FloatTensor of size 8x128]\n",
              "         (51): Parameter containing: [torch.FloatTensor of size 8x128]\n",
              "         (52): Parameter containing: [torch.FloatTensor of size 60x8]\n",
              "         (53): Parameter containing: [torch.FloatTensor of size 60]\n",
              "         (54): Parameter containing: [torch.FloatTensor of size 60x8]\n",
              "         (55): Parameter containing: [torch.FloatTensor of size 60]\n",
              "         (56): Parameter containing: [torch.FloatTensor of size 128x60]\n",
              "         (57): Parameter containing: [torch.FloatTensor of size 128]\n",
              "         (58): Parameter containing: [torch.FloatTensor of size 128x128]\n",
              "         (59): Parameter containing: [torch.FloatTensor of size 128]\n",
              "         (60): Parameter containing: [torch.FloatTensor of size 128x128]\n",
              "         (61): Parameter containing: [torch.FloatTensor of size 128]\n",
              "         (62): Parameter containing: [torch.FloatTensor of size 128x128]\n",
              "         (63): Parameter containing: [torch.FloatTensor of size 128]\n",
              "         (64): Parameter containing: [torch.FloatTensor of size 8x128]\n",
              "         (65): Parameter containing: [torch.FloatTensor of size 8x128]\n",
              "         (66): Parameter containing: [torch.FloatTensor of size 60x8]\n",
              "         (67): Parameter containing: [torch.FloatTensor of size 60]\n",
              "         (68): Parameter containing: [torch.FloatTensor of size 60x8]\n",
              "         (69): Parameter containing: [torch.FloatTensor of size 60]\n",
              "         (70): Parameter containing: [torch.FloatTensor of size 128x60]\n",
              "         (71): Parameter containing: [torch.FloatTensor of size 128]\n",
              "         (72): Parameter containing: [torch.FloatTensor of size 128x128]\n",
              "         (73): Parameter containing: [torch.FloatTensor of size 128]\n",
              "         (74): Parameter containing: [torch.FloatTensor of size 128x128]\n",
              "         (75): Parameter containing: [torch.FloatTensor of size 128]\n",
              "         (76): Parameter containing: [torch.FloatTensor of size 128x128]\n",
              "         (77): Parameter containing: [torch.FloatTensor of size 128]\n",
              "         (78): Parameter containing: [torch.FloatTensor of size 8x128]\n",
              "         (79): Parameter containing: [torch.FloatTensor of size 8x128]\n",
              "         (80): Parameter containing: [torch.FloatTensor of size 60x8]\n",
              "         (81): Parameter containing: [torch.FloatTensor of size 60]\n",
              "         (82): Parameter containing: [torch.FloatTensor of size 60x8]\n",
              "         (83): Parameter containing: [torch.FloatTensor of size 60]\n",
              "     )\n",
              "   ),\n",
              "   75.95)},\n",
              " 'TATS': <tbats.tbats.Model.Model at 0x7f43b1bb6dd8>,\n",
              " 'TBAT': <tbats.tbats.Model.Model at 0x7f43b1bdbac8>,\n",
              " 'TBATP1': <tbats.tbats.Model.Model at 0x7f43b1bb6160>,\n",
              " 'TBATS1': <tbats.tbats.Model.Model at 0x7f43b1bb6908>,\n",
              " 'TBATS2': <tbats.tbats.Model.Model at 0x7f43b1bcee80>}"
            ]
          },
          "metadata": {
            "tags": []
          },
          "execution_count": 23
        }
      ]
    },
    {
      "cell_type": "code",
      "metadata": {
        "id": "p7_SYZT2qRAf"
      },
      "source": [
        ""
      ],
      "execution_count": null,
      "outputs": []
    }
  ]
}